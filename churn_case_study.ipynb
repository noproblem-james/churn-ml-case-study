{
 "cells": [
  {
   "cell_type": "markdown",
   "metadata": {},
   "source": [
    "## Case Study - Churn Prediction\n",
    "\n",
    "A ride-sharing company (Company X) is interested in predicting rider retention.\n",
    "To help explore this question, we have provided a sample dataset of a cohort of \n",
    "users who signed up for an account in January 2014. The data was pulled on July 1, 2014; \n",
    "we consider a user retained if they were “active” (i.e. took a trip) in \n",
    "the preceding 30 days (from the day the data was pulled). In other words, a user is \"active\"\n",
    "if they have taken a trip since June 1, 2014. The data, `churn.csv`, is in the \n",
    "[data](data) folder.  The data are split into train and test sets.  You are encouraged\n",
    "to tune and estimate your model's performance on the train set, then see how it does on\n",
    "the unseen data in the test set at the end.\n",
    "\n",
    "We would like you to use this data set to help understand **what factors are the best\n",
    "predictors for retention**, and offer suggestions to operationalize those insights to \n",
    "help Company X. Therefore, your task is not only to build a model that minimizes error,\n",
    "but also a model that allows you to interpret the factors that contributed to your predictions.\n",
    "\n",
    "Here is a detailed description of the data:\n",
    "\n",
    "```\n",
    "city: city this user signed up in\n",
    "phone: primary device for this user\n",
    "signup_date: date of account registration; in the form `YYYYMMDD`\n",
    "last_trip_date: the last time this user completed a trip; in the form `YYYYMMDD`\n",
    "avg_dist: the average distance (in miles) per trip taken in the first 30 days after signup\n",
    "avg_rating_by_driver: the rider’s average rating over all of their trips\n",
    "avg_rating_of_driver: the rider’s average rating of their drivers over all of their trips \n",
    "surge_pct: the percent of trips taken with surge multiplier > 1\n",
    "avg_surge: The average surge multiplier over all of this user’s trips \n",
    "trips_in_first_30_days: the number of trips this user took in the first 30 days after signing up\n",
    "luxury_car_user: TRUE if the user took a luxury car in their first 30 days; FALSE otherwise\n",
    "weekday_pct: the percent of the user’s trips occurring during a weekday\n",
    "```\n",
    "\n",
    "## Work Flow\n",
    "\n",
    "1. Perform any cleaning, exploratory analysis, and/or visualizations to use the provided\n",
    "   data for this analysis.\n",
    "   \n",
    "2. Build a predictive model to help determine whether or not a user will be retained.\n",
    "\n",
    "3. Evaluate the model.\n",
    " \n",
    "4. Identify / interpret features that are the most influential in affecting your predictions.\n",
    "\n",
    "5. Discuss the validity of your model. Issues such as [leakage.](https://www.kaggle.com/wiki/Leakage)\n",
    "\n",
    "6. Repeat 2 - 5 until you have a satisfactory model.\n",
    "   \n",
    "## Deliverables\n",
    "\n",
    "- Code you used to build the model.\n",
    "\n",
    "- A presentation including the following points:\n",
    "    - How did you compute the target?\n",
    "    - What model did you use in the end? Why?\n",
    "    - Alternative models you considered? Why are they not good enough?\n",
    "    - What performance metric did you use? Why?\n",
    "    - Based on insights from the model, what actionable plans do you propose to reduce churn?\n",
    "    "
   ]
  },
  {
   "cell_type": "markdown",
   "metadata": {},
   "source": [
    "## Step 1: EDA\n",
    "### Identify ID, Input and Target features\n",
    "### Identify categorical and numerical features\n",
    "### Identify columns with missing values"
   ]
  },
  {
   "cell_type": "code",
   "execution_count": 4,
   "metadata": {
    "collapsed": false
   },
   "outputs": [],
   "source": [
    "datadict={\"city\": \"city this user signed up in\",\n",
    "\"phone\": \"primary device for this user\",\n",
    "\"signup_date\": \"date of account registration; in the form `YYYYMMDD`\",\n",
    "\"last_trip_date\": \"the last time this user completed a trip; in the form `YYYYMMDD`\",\n",
    "\"avg_dist\": \"the average distance (in miles) per trip taken in the first 30 days after signup\",\n",
    "\"avg_rating_by_driver\": \"the rider's average rating over all of their trips\",\n",
    "\"avg_rating_of_driver\": \"the rider's average rating of their drivers over all of their trips\", \n",
    "\"surge_pct\": \"the percent of trips taken with surge multiplier > 1\",\n",
    "\"avg_surge\": \"The average surge multiplier over all of this user's trips\", \n",
    "\"trips_in_first_30_days\": \"the number of trips this user took in the first 30 days after signing up\",\n",
    "\"luxury_car_user\": \"TRUE if the user took a luxury car in their first 30 days; FALSE otherwise\",\n",
    "\"weekday_pct\":\"the percent of the user's trips occurring during a weekday\"}"
   ]
  },
  {
   "cell_type": "code",
   "execution_count": 327,
   "metadata": {
    "collapsed": false,
    "scrolled": false
   },
   "outputs": [
    {
     "data": {
      "text/html": [
       "<div>\n",
       "<style>\n",
       "    .dataframe thead tr:only-child th {\n",
       "        text-align: right;\n",
       "    }\n",
       "\n",
       "    .dataframe thead th {\n",
       "        text-align: left;\n",
       "    }\n",
       "\n",
       "    .dataframe tbody tr th {\n",
       "        vertical-align: top;\n",
       "    }\n",
       "</style>\n",
       "<table border=\"1\" class=\"dataframe\">\n",
       "  <thead>\n",
       "    <tr style=\"text-align: right;\">\n",
       "      <th></th>\n",
       "      <th>feature name</th>\n",
       "      <th>feature description</th>\n",
       "    </tr>\n",
       "  </thead>\n",
       "  <tbody>\n",
       "    <tr>\n",
       "      <th>0</th>\n",
       "      <td>last_trip_date</td>\n",
       "      <td>the last time this user completed a trip; in the form `YYYYMMDD`</td>\n",
       "    </tr>\n",
       "    <tr>\n",
       "      <th>1</th>\n",
       "      <td>phone</td>\n",
       "      <td>primary device for this user</td>\n",
       "    </tr>\n",
       "    <tr>\n",
       "      <th>2</th>\n",
       "      <td>weekday_pct</td>\n",
       "      <td>the percent of the user's trips occurring during a weekday</td>\n",
       "    </tr>\n",
       "    <tr>\n",
       "      <th>3</th>\n",
       "      <td>avg_rating_by_driver</td>\n",
       "      <td>the rider's average rating over all of their trips</td>\n",
       "    </tr>\n",
       "    <tr>\n",
       "      <th>4</th>\n",
       "      <td>city</td>\n",
       "      <td>city this user signed up in</td>\n",
       "    </tr>\n",
       "    <tr>\n",
       "      <th>5</th>\n",
       "      <td>trips_in_first_30_days</td>\n",
       "      <td>the number of trips this user took in the first 30 days after signing up</td>\n",
       "    </tr>\n",
       "    <tr>\n",
       "      <th>6</th>\n",
       "      <td>signup_date</td>\n",
       "      <td>date of account registration; in the form `YYYYMMDD`</td>\n",
       "    </tr>\n",
       "    <tr>\n",
       "      <th>7</th>\n",
       "      <td>avg_rating_of_driver</td>\n",
       "      <td>the rider's average rating of their drivers over all of their trips</td>\n",
       "    </tr>\n",
       "    <tr>\n",
       "      <th>8</th>\n",
       "      <td>avg_surge</td>\n",
       "      <td>The average surge multiplier over all of this user's trips</td>\n",
       "    </tr>\n",
       "    <tr>\n",
       "      <th>9</th>\n",
       "      <td>surge_pct</td>\n",
       "      <td>the percent of trips taken with surge multiplier &gt; 1</td>\n",
       "    </tr>\n",
       "    <tr>\n",
       "      <th>10</th>\n",
       "      <td>avg_dist</td>\n",
       "      <td>the average distance (in miles) per trip taken in the first 30 days after signup</td>\n",
       "    </tr>\n",
       "    <tr>\n",
       "      <th>11</th>\n",
       "      <td>luxury_car_user</td>\n",
       "      <td>TRUE if the user took a luxury car in their first 30 days; FALSE otherwise</td>\n",
       "    </tr>\n",
       "  </tbody>\n",
       "</table>\n",
       "</div>"
      ],
      "text/plain": [
       "              feature name  \\\n",
       "0           last_trip_date   \n",
       "1                    phone   \n",
       "2              weekday_pct   \n",
       "3     avg_rating_by_driver   \n",
       "4                     city   \n",
       "5   trips_in_first_30_days   \n",
       "6              signup_date   \n",
       "7     avg_rating_of_driver   \n",
       "8                avg_surge   \n",
       "9                surge_pct   \n",
       "10                avg_dist   \n",
       "11         luxury_car_user   \n",
       "\n",
       "                                                                 feature description  \n",
       "0                   the last time this user completed a trip; in the form `YYYYMMDD`  \n",
       "1                                                       primary device for this user  \n",
       "2                         the percent of the user's trips occurring during a weekday  \n",
       "3                                 the rider's average rating over all of their trips  \n",
       "4                                                        city this user signed up in  \n",
       "5           the number of trips this user took in the first 30 days after signing up  \n",
       "6                               date of account registration; in the form `YYYYMMDD`  \n",
       "7                the rider's average rating of their drivers over all of their trips  \n",
       "8                         The average surge multiplier over all of this user's trips  \n",
       "9                               the percent of trips taken with surge multiplier > 1  \n",
       "10  the average distance (in miles) per trip taken in the first 30 days after signup  \n",
       "11        TRUE if the user took a luxury car in their first 30 days; FALSE otherwise  "
      ]
     },
     "execution_count": 327,
     "metadata": {},
     "output_type": "execute_result"
    }
   ],
   "source": [
    "datadict_df = pd.DataFrame.from_dict(datadict, orient='index').reset_index()\n",
    "datadict_df.columns=[\"feature name\", \"feature description\"]\n",
    "datadict_df"
   ]
  },
  {
   "cell_type": "code",
   "execution_count": 6,
   "metadata": {
    "collapsed": false
   },
   "outputs": [],
   "source": [
    "from imports import *"
   ]
  },
  {
   "cell_type": "code",
   "execution_count": 16,
   "metadata": {
    "collapsed": false
   },
   "outputs": [],
   "source": [
    "skl.__version__\n",
    "%matplotlib inline"
   ]
  },
  {
   "cell_type": "code",
   "execution_count": 17,
   "metadata": {
    "collapsed": false
   },
   "outputs": [],
   "source": [
    "df = pd.read_csv(\"data/churn_train.csv\")"
   ]
  },
  {
   "cell_type": "code",
   "execution_count": 18,
   "metadata": {
    "collapsed": false
   },
   "outputs": [
    {
     "name": "stdout",
     "output_type": "stream",
     "text": [
      "<class 'pandas.core.frame.DataFrame'>\n",
      "RangeIndex: 40000 entries, 0 to 39999\n",
      "Data columns (total 12 columns):\n",
      "avg_dist                  40000 non-null float64\n",
      "avg_rating_by_driver      39838 non-null float64\n",
      "avg_rating_of_driver      33472 non-null float64\n",
      "avg_surge                 40000 non-null float64\n",
      "city                      40000 non-null object\n",
      "last_trip_date            40000 non-null object\n",
      "phone                     39681 non-null object\n",
      "signup_date               40000 non-null object\n",
      "surge_pct                 40000 non-null float64\n",
      "trips_in_first_30_days    40000 non-null int64\n",
      "luxury_car_user           40000 non-null bool\n",
      "weekday_pct               40000 non-null float64\n",
      "dtypes: bool(1), float64(6), int64(1), object(4)\n",
      "memory usage: 3.4+ MB\n"
     ]
    }
   ],
   "source": [
    "df.info()"
   ]
  },
  {
   "cell_type": "code",
   "execution_count": 19,
   "metadata": {
    "collapsed": false
   },
   "outputs": [
    {
     "data": {
      "text/html": [
       "<div>\n",
       "<style>\n",
       "    .dataframe thead tr:only-child th {\n",
       "        text-align: right;\n",
       "    }\n",
       "\n",
       "    .dataframe thead th {\n",
       "        text-align: left;\n",
       "    }\n",
       "\n",
       "    .dataframe tbody tr th {\n",
       "        vertical-align: top;\n",
       "    }\n",
       "</style>\n",
       "<table border=\"1\" class=\"dataframe\">\n",
       "  <thead>\n",
       "    <tr style=\"text-align: right;\">\n",
       "      <th></th>\n",
       "      <th>avg_dist</th>\n",
       "      <th>avg_rating_by_driver</th>\n",
       "      <th>avg_rating_of_driver</th>\n",
       "      <th>avg_surge</th>\n",
       "      <th>city</th>\n",
       "      <th>last_trip_date</th>\n",
       "      <th>phone</th>\n",
       "      <th>signup_date</th>\n",
       "      <th>surge_pct</th>\n",
       "      <th>trips_in_first_30_days</th>\n",
       "      <th>luxury_car_user</th>\n",
       "      <th>weekday_pct</th>\n",
       "    </tr>\n",
       "  </thead>\n",
       "  <tbody>\n",
       "    <tr>\n",
       "      <th>0</th>\n",
       "      <td>6.94</td>\n",
       "      <td>5.0</td>\n",
       "      <td>5.0</td>\n",
       "      <td>1.00</td>\n",
       "      <td>Astapor</td>\n",
       "      <td>2014-05-03</td>\n",
       "      <td>Android</td>\n",
       "      <td>2014-01-12</td>\n",
       "      <td>0.0</td>\n",
       "      <td>0</td>\n",
       "      <td>False</td>\n",
       "      <td>100.0</td>\n",
       "    </tr>\n",
       "    <tr>\n",
       "      <th>1</th>\n",
       "      <td>8.06</td>\n",
       "      <td>5.0</td>\n",
       "      <td>5.0</td>\n",
       "      <td>1.00</td>\n",
       "      <td>Astapor</td>\n",
       "      <td>2014-01-26</td>\n",
       "      <td>Android</td>\n",
       "      <td>2014-01-25</td>\n",
       "      <td>0.0</td>\n",
       "      <td>2</td>\n",
       "      <td>True</td>\n",
       "      <td>0.0</td>\n",
       "    </tr>\n",
       "    <tr>\n",
       "      <th>2</th>\n",
       "      <td>21.50</td>\n",
       "      <td>4.0</td>\n",
       "      <td>NaN</td>\n",
       "      <td>1.00</td>\n",
       "      <td>Winterfell</td>\n",
       "      <td>2014-05-21</td>\n",
       "      <td>iPhone</td>\n",
       "      <td>2014-01-02</td>\n",
       "      <td>0.0</td>\n",
       "      <td>1</td>\n",
       "      <td>True</td>\n",
       "      <td>100.0</td>\n",
       "    </tr>\n",
       "    <tr>\n",
       "      <th>3</th>\n",
       "      <td>9.46</td>\n",
       "      <td>5.0</td>\n",
       "      <td>NaN</td>\n",
       "      <td>2.75</td>\n",
       "      <td>Winterfell</td>\n",
       "      <td>2014-01-10</td>\n",
       "      <td>Android</td>\n",
       "      <td>2014-01-09</td>\n",
       "      <td>100.0</td>\n",
       "      <td>1</td>\n",
       "      <td>False</td>\n",
       "      <td>100.0</td>\n",
       "    </tr>\n",
       "    <tr>\n",
       "      <th>4</th>\n",
       "      <td>13.77</td>\n",
       "      <td>5.0</td>\n",
       "      <td>NaN</td>\n",
       "      <td>1.00</td>\n",
       "      <td>Winterfell</td>\n",
       "      <td>2014-05-13</td>\n",
       "      <td>iPhone</td>\n",
       "      <td>2014-01-31</td>\n",
       "      <td>0.0</td>\n",
       "      <td>0</td>\n",
       "      <td>False</td>\n",
       "      <td>100.0</td>\n",
       "    </tr>\n",
       "    <tr>\n",
       "      <th>5</th>\n",
       "      <td>14.51</td>\n",
       "      <td>5.0</td>\n",
       "      <td>NaN</td>\n",
       "      <td>1.00</td>\n",
       "      <td>Astapor</td>\n",
       "      <td>2014-04-22</td>\n",
       "      <td>iPhone</td>\n",
       "      <td>2014-01-29</td>\n",
       "      <td>0.0</td>\n",
       "      <td>0</td>\n",
       "      <td>True</td>\n",
       "      <td>100.0</td>\n",
       "    </tr>\n",
       "    <tr>\n",
       "      <th>6</th>\n",
       "      <td>4.87</td>\n",
       "      <td>4.7</td>\n",
       "      <td>4.0</td>\n",
       "      <td>1.00</td>\n",
       "      <td>Astapor</td>\n",
       "      <td>2014-04-21</td>\n",
       "      <td>Android</td>\n",
       "      <td>2014-01-18</td>\n",
       "      <td>0.0</td>\n",
       "      <td>0</td>\n",
       "      <td>False</td>\n",
       "      <td>66.7</td>\n",
       "    </tr>\n",
       "  </tbody>\n",
       "</table>\n",
       "</div>"
      ],
      "text/plain": [
       "   avg_dist  avg_rating_by_driver  avg_rating_of_driver  avg_surge  \\\n",
       "0      6.94                   5.0                   5.0       1.00   \n",
       "1      8.06                   5.0                   5.0       1.00   \n",
       "2     21.50                   4.0                   NaN       1.00   \n",
       "3      9.46                   5.0                   NaN       2.75   \n",
       "4     13.77                   5.0                   NaN       1.00   \n",
       "5     14.51                   5.0                   NaN       1.00   \n",
       "6      4.87                   4.7                   4.0       1.00   \n",
       "\n",
       "         city last_trip_date    phone signup_date  surge_pct  \\\n",
       "0     Astapor     2014-05-03  Android  2014-01-12        0.0   \n",
       "1     Astapor     2014-01-26  Android  2014-01-25        0.0   \n",
       "2  Winterfell     2014-05-21   iPhone  2014-01-02        0.0   \n",
       "3  Winterfell     2014-01-10  Android  2014-01-09      100.0   \n",
       "4  Winterfell     2014-05-13   iPhone  2014-01-31        0.0   \n",
       "5     Astapor     2014-04-22   iPhone  2014-01-29        0.0   \n",
       "6     Astapor     2014-04-21  Android  2014-01-18        0.0   \n",
       "\n",
       "   trips_in_first_30_days  luxury_car_user  weekday_pct  \n",
       "0                       0            False        100.0  \n",
       "1                       2             True          0.0  \n",
       "2                       1             True        100.0  \n",
       "3                       1            False        100.0  \n",
       "4                       0            False        100.0  \n",
       "5                       0             True        100.0  \n",
       "6                       0            False         66.7  "
      ]
     },
     "execution_count": 19,
     "metadata": {},
     "output_type": "execute_result"
    }
   ],
   "source": [
    "df.head(7)"
   ]
  },
  {
   "cell_type": "code",
   "execution_count": 20,
   "metadata": {
    "collapsed": true
   },
   "outputs": [],
   "source": [
    "df_original = df.copy()"
   ]
  },
  {
   "cell_type": "markdown",
   "metadata": {},
   "source": [
    "## Convert to Datetime"
   ]
  },
  {
   "cell_type": "code",
   "execution_count": 21,
   "metadata": {
    "collapsed": false
   },
   "outputs": [],
   "source": [
    "df.last_trip_date = pd.to_datetime(df.last_trip_date)\n",
    "df.signup_date = pd.to_datetime(df.signup_date)"
   ]
  },
  {
   "cell_type": "code",
   "execution_count": 22,
   "metadata": {
    "collapsed": false
   },
   "outputs": [
    {
     "name": "stdout",
     "output_type": "stream",
     "text": [
      "<class 'pandas.core.frame.DataFrame'>\n",
      "RangeIndex: 40000 entries, 0 to 39999\n",
      "Data columns (total 12 columns):\n",
      "avg_dist                  40000 non-null float64\n",
      "avg_rating_by_driver      39838 non-null float64\n",
      "avg_rating_of_driver      33472 non-null float64\n",
      "avg_surge                 40000 non-null float64\n",
      "city                      40000 non-null object\n",
      "last_trip_date            40000 non-null datetime64[ns]\n",
      "phone                     39681 non-null object\n",
      "signup_date               40000 non-null datetime64[ns]\n",
      "surge_pct                 40000 non-null float64\n",
      "trips_in_first_30_days    40000 non-null int64\n",
      "luxury_car_user           40000 non-null bool\n",
      "weekday_pct               40000 non-null float64\n",
      "dtypes: bool(1), datetime64[ns](2), float64(6), int64(1), object(2)\n",
      "memory usage: 3.4+ MB\n"
     ]
    }
   ],
   "source": [
    "df.info()"
   ]
  },
  {
   "cell_type": "markdown",
   "metadata": {},
   "source": [
    "## Make target Variable:  \n",
    "\" a user is \"active\" if they have taken a trip since June 1, 2014.\""
   ]
  },
  {
   "cell_type": "code",
   "execution_count": 23,
   "metadata": {
    "collapsed": false
   },
   "outputs": [],
   "source": [
    "df[\"active\"] = df['last_trip_date'] > \"2014-06-01\""
   ]
  },
  {
   "cell_type": "code",
   "execution_count": 24,
   "metadata": {
    "collapsed": false
   },
   "outputs": [
    {
     "name": "stdout",
     "output_type": "stream",
     "text": [
      "False    25365\n",
      "True     14635\n",
      "Name: active, dtype: int64\n"
     ]
    },
    {
     "data": {
      "text/plain": [
       "<matplotlib.axes._subplots.AxesSubplot at 0x110a78650>"
      ]
     },
     "execution_count": 24,
     "metadata": {},
     "output_type": "execute_result"
    },
    {
     "data": {
      "image/png": "[encoded data removed]",
      "text/plain": [
       "<matplotlib.figure.Figure at 0x1108f2b90>"
      ]
     },
     "metadata": {},
     "output_type": "display_data"
    }
   ],
   "source": [
    "print df.active.value_counts()\n",
    "df.active.value_counts().plot.bar()"
   ]
  },
  {
   "cell_type": "code",
   "execution_count": 25,
   "metadata": {
    "collapsed": false
   },
   "outputs": [],
   "source": [
    "dtype_dict = {\"bool_list\" : list(df.select_dtypes(include=['bool']).columns), \\\n",
    "              \"cat_vars\" : list(df.select_dtypes(include=['O']).columns), \\\n",
    "              \"cont_vars\" : list(df.select_dtypes(include=['int', 'float']).columns), \\\n",
    "              \"date_vars\" : list(df.select_dtypes(include=['datetime']).columns)}"
   ]
  },
  {
   "cell_type": "code",
   "execution_count": 26,
   "metadata": {
    "collapsed": false
   },
   "outputs": [
    {
     "data": {
      "text/plain": [
       "{'bool_list': ['luxury_car_user', 'active'],\n",
       " 'cat_vars': ['city', 'phone'],\n",
       " 'cont_vars': ['avg_dist',\n",
       "  'avg_rating_by_driver',\n",
       "  'avg_rating_of_driver',\n",
       "  'avg_surge',\n",
       "  'surge_pct',\n",
       "  'trips_in_first_30_days',\n",
       "  'weekday_pct'],\n",
       " 'date_vars': ['last_trip_date', 'signup_date']}"
      ]
     },
     "execution_count": 26,
     "metadata": {},
     "output_type": "execute_result"
    }
   ],
   "source": [
    "dtype_dict"
   ]
  },
  {
   "cell_type": "code",
   "execution_count": 27,
   "metadata": {
    "collapsed": false
   },
   "outputs": [
    {
     "name": "stdout",
     "output_type": "stream",
     "text": [
      "Winterfell        18620\n",
      "Astapor           13236\n",
      "King's Landing     8144\n",
      "Name: city, dtype: int64\n",
      "\n",
      "**************************************************\n",
      "iPhone     27628\n",
      "Android    12053\n",
      "NaN          319\n",
      "Name: phone, dtype: int64\n",
      "\n",
      "**************************************************\n"
     ]
    }
   ],
   "source": [
    "for col in dtype_dict[\"cat_vars\"]:\n",
    "    print df[col].value_counts(dropna=False)\n",
    "    print \"\\n\",  \"*\" * 50"
   ]
  },
  {
   "cell_type": "code",
   "execution_count": 28,
   "metadata": {
    "collapsed": true
   },
   "outputs": [],
   "source": [
    "%matplotlib inline"
   ]
  },
  {
   "cell_type": "code",
   "execution_count": 29,
   "metadata": {
    "collapsed": false
   },
   "outputs": [
    {
     "data": {
      "text/plain": [
       "<matplotlib.axes._subplots.AxesSubplot at 0x1112e5b90>"
      ]
     },
     "execution_count": 29,
     "metadata": {},
     "output_type": "execute_result"
    },
    {
     "data": {
      "image/png": "[encoded data removed]",
      "text/plain": [
       "<matplotlib.figure.Figure at 0x110a83f10>"
      ]
     },
     "metadata": {},
     "output_type": "display_data"
    }
   ],
   "source": [
    "df[\"avg_rating_by_driver\"].value_counts().sort_index(ascending=False).plot.bar(figsize=(16,5))"
   ]
  },
  {
   "cell_type": "code",
   "execution_count": 30,
   "metadata": {
    "collapsed": false
   },
   "outputs": [
    {
     "data": {
      "text/plain": [
       "<matplotlib.axes._subplots.AxesSubplot at 0x105e9f350>"
      ]
     },
     "execution_count": 30,
     "metadata": {},
     "output_type": "execute_result"
    },
    {
     "data": {
      "image/png": "[encoded data removed]",
      "text/plain": [
       "<matplotlib.figure.Figure at 0x105ea8f10>"
      ]
     },
     "metadata": {},
     "output_type": "display_data"
    }
   ],
   "source": [
    "df[\"avg_rating_of_driver\"].value_counts().sort_index(ascending=False).plot.bar(figsize=(16,5.25))"
   ]
  },
  {
   "cell_type": "markdown",
   "metadata": {},
   "source": [
    "### 'avg_rating_by_driver': \"the rider's average rating over all of their trips\",  \n",
    "### 'avg_rating_of_driver': \"the rider's average rating of their drivers over all of their trips\","
   ]
  },
  {
   "cell_type": "markdown",
   "metadata": {},
   "source": [
    "create difference feature?"
   ]
  },
  {
   "cell_type": "code",
   "execution_count": 31,
   "metadata": {
    "collapsed": false
   },
   "outputs": [
    {
     "data": {
      "text/plain": [
       "<matplotlib.axes._subplots.AxesSubplot at 0x11103e5d0>"
      ]
     },
     "execution_count": 31,
     "metadata": {},
     "output_type": "execute_result"
    },
    {
     "data": {
      "image/png": "[encoded data removed]",
      "text/plain": [
       "<matplotlib.figure.Figure at 0x111306d10>"
      ]
     },
     "metadata": {},
     "output_type": "display_data"
    }
   ],
   "source": [
    "df.groupby([\"phone\", \"active\"]).count().iloc[:,0].plot.bar()"
   ]
  },
  {
   "cell_type": "code",
   "execution_count": 32,
   "metadata": {
    "collapsed": false,
    "scrolled": false
   },
   "outputs": [
    {
     "data": {
      "text/plain": [
       "<matplotlib.axes._subplots.AxesSubplot at 0x111a4ab10>"
      ]
     },
     "execution_count": 32,
     "metadata": {},
     "output_type": "execute_result"
    },
    {
     "data": {
      "image/png": "[encoded data removed]",
      "text/plain": [
       "<matplotlib.figure.Figure at 0x105ea8d90>"
      ]
     },
     "metadata": {},
     "output_type": "display_data"
    }
   ],
   "source": [
    "df.groupby([\"city\", \"active\"]).count().iloc[:,0].plot.bar(fontsize=14)"
   ]
  },
  {
   "cell_type": "markdown",
   "metadata": {},
   "source": [
    "## Stage 2: Data Treatment (Missing values treatment):"
   ]
  },
  {
   "cell_type": "markdown",
   "metadata": {},
   "source": [
    "### Step 5: Find missing values"
   ]
  },
  {
   "cell_type": "code",
   "execution_count": 33,
   "metadata": {
    "collapsed": true
   },
   "outputs": [],
   "source": [
    "df_before_impute = df.copy()"
   ]
  },
  {
   "cell_type": "code",
   "execution_count": 34,
   "metadata": {
    "collapsed": false
   },
   "outputs": [
    {
     "name": "stdout",
     "output_type": "stream",
     "text": [
      "<class 'pandas.core.frame.DataFrame'>\n",
      "RangeIndex: 40000 entries, 0 to 39999\n",
      "Data columns (total 13 columns):\n",
      "avg_dist                  40000 non-null float64\n",
      "avg_rating_by_driver      39838 non-null float64\n",
      "avg_rating_of_driver      33472 non-null float64\n",
      "avg_surge                 40000 non-null float64\n",
      "city                      40000 non-null object\n",
      "last_trip_date            40000 non-null datetime64[ns]\n",
      "phone                     39681 non-null object\n",
      "signup_date               40000 non-null datetime64[ns]\n",
      "surge_pct                 40000 non-null float64\n",
      "trips_in_first_30_days    40000 non-null int64\n",
      "luxury_car_user           40000 non-null bool\n",
      "weekday_pct               40000 non-null float64\n",
      "active                    40000 non-null bool\n",
      "dtypes: bool(2), datetime64[ns](2), float64(6), int64(1), object(2)\n",
      "memory usage: 3.4+ MB\n"
     ]
    }
   ],
   "source": [
    "df_before_impute.info()"
   ]
  },
  {
   "cell_type": "code",
   "execution_count": 35,
   "metadata": {
    "collapsed": false,
    "scrolled": true
   },
   "outputs": [
    {
     "data": {
      "text/plain": [
       "avg_dist                  False\n",
       "avg_rating_by_driver       True\n",
       "avg_rating_of_driver       True\n",
       "avg_surge                 False\n",
       "city                      False\n",
       "last_trip_date            False\n",
       "phone                      True\n",
       "signup_date               False\n",
       "surge_pct                 False\n",
       "trips_in_first_30_days    False\n",
       "luxury_car_user           False\n",
       "weekday_pct               False\n",
       "active                    False\n",
       "dtype: bool"
      ]
     },
     "execution_count": 35,
     "metadata": {},
     "output_type": "execute_result"
    }
   ],
   "source": [
    "df.isnull().any()"
   ]
  },
  {
   "cell_type": "code",
   "execution_count": 51,
   "metadata": {
    "collapsed": false,
    "scrolled": true
   },
   "outputs": [
    {
     "data": {
      "text/plain": [
       "avg_dist                  0.0\n",
       "avg_rating_by_driver      0.0\n",
       "avg_rating_of_driver      0.0\n",
       "avg_surge                 0.0\n",
       "city                      0.0\n",
       "last_trip_date            0.0\n",
       "phone                     0.0\n",
       "signup_date               0.0\n",
       "surge_pct                 0.0\n",
       "trips_in_first_30_days    0.0\n",
       "luxury_car_user           0.0\n",
       "weekday_pct               0.0\n",
       "active                    0.0\n",
       "dtype: float64"
      ]
     },
     "execution_count": 51,
     "metadata": {},
     "output_type": "execute_result"
    }
   ],
   "source": [
    "nan_props =(1- (df.count()/df.shape[0]))\n",
    "nan_props"
   ]
  },
  {
   "cell_type": "code",
   "execution_count": 42,
   "metadata": {
    "collapsed": false
   },
   "outputs": [
    {
     "data": {
      "text/plain": [
       "<matplotlib.axes._subplots.AxesSubplot at 0x114ff5f90>"
      ]
     },
     "execution_count": 42,
     "metadata": {},
     "output_type": "execute_result"
    },
    {
     "data": {
      "image/png": "[encoded data removed]",
      "text/plain": [
       "<matplotlib.figure.Figure at 0x114fff6d0>"
      ]
     },
     "metadata": {},
     "output_type": "display_data"
    }
   ],
   "source": [
    "nan_props.plot.bar(figsize=(12,6))"
   ]
  },
  {
   "cell_type": "markdown",
   "metadata": {},
   "source": [
    "### Step 6: Impute Missing values"
   ]
  },
  {
   "cell_type": "code",
   "execution_count": 43,
   "metadata": {
    "collapsed": false
   },
   "outputs": [
    {
     "data": {
      "text/plain": [
       "4.601696940726505"
      ]
     },
     "execution_count": 43,
     "metadata": {},
     "output_type": "execute_result"
    }
   ],
   "source": [
    "mean_rating = df[\"avg_rating_of_driver\"].mean()\n",
    "mean_rating"
   ]
  },
  {
   "cell_type": "code",
   "execution_count": 44,
   "metadata": {
    "collapsed": false
   },
   "outputs": [],
   "source": [
    "#Impute numerical missing values with mean\n",
    "df[\"avg_rating_of_driver\"].fillna(mean_rating, inplace=True)"
   ]
  },
  {
   "cell_type": "code",
   "execution_count": 45,
   "metadata": {
    "collapsed": false,
    "scrolled": true
   },
   "outputs": [
    {
     "data": {
      "text/plain": [
       "array([ 5.        ,  4.60169694,  4.        ,  4.7       ,  3.        ,\n",
       "        3.7       ,  4.5       ,  3.3       ,  3.6       ,  4.3       ,\n",
       "        4.6       ,  3.8       ,  4.1       ,  1.        ,  4.4       ,\n",
       "        4.9       ,  3.5       ,  4.8       ,  2.        ,  3.1       ,\n",
       "        3.4       ,  4.2       ,  2.8       ,  2.7       ,  2.5       ,\n",
       "        3.9       ,  2.6       ,  1.9       ,  2.3       ,  3.2       ,\n",
       "        2.9       ,  2.1       ,  1.7       ,  1.5       ,  2.4       ,\n",
       "        2.2       ,  1.8       ,  1.6       ])"
      ]
     },
     "execution_count": 45,
     "metadata": {},
     "output_type": "execute_result"
    }
   ],
   "source": [
    "df[\"avg_rating_of_driver\"].unique()"
   ]
  },
  {
   "cell_type": "markdown",
   "metadata": {},
   "source": [
    "## Drop remainig NAs"
   ]
  },
  {
   "cell_type": "code",
   "execution_count": 46,
   "metadata": {
    "collapsed": false
   },
   "outputs": [],
   "source": [
    "df.dropna(axis=0, inplace=True)"
   ]
  },
  {
   "cell_type": "code",
   "execution_count": 47,
   "metadata": {
    "collapsed": false
   },
   "outputs": [
    {
     "data": {
      "text/plain": [
       "(39521, 13)"
      ]
     },
     "execution_count": 47,
     "metadata": {},
     "output_type": "execute_result"
    }
   ],
   "source": [
    "df.shape"
   ]
  },
  {
   "cell_type": "code",
   "execution_count": 49,
   "metadata": {
    "collapsed": false
   },
   "outputs": [
    {
     "data": {
      "text/plain": [
       "avg_dist                  0.000000\n",
       "avg_rating_by_driver      0.004050\n",
       "avg_rating_of_driver      0.163200\n",
       "avg_surge                 0.000000\n",
       "city                      0.000000\n",
       "last_trip_date            0.000000\n",
       "phone                     0.007975\n",
       "signup_date               0.000000\n",
       "surge_pct                 0.000000\n",
       "trips_in_first_30_days    0.000000\n",
       "luxury_car_user           0.000000\n",
       "weekday_pct               0.000000\n",
       "active                    0.000000\n",
       "dtype: float64"
      ]
     },
     "execution_count": 49,
     "metadata": {},
     "output_type": "execute_result"
    }
   ],
   "source": [
    "nan_props"
   ]
  },
  {
   "cell_type": "code",
   "execution_count": 52,
   "metadata": {
    "collapsed": false
   },
   "outputs": [
    {
     "data": {
      "text/plain": [
       "avg_dist                  39521\n",
       "avg_rating_by_driver      39521\n",
       "avg_rating_of_driver      39521\n",
       "avg_surge                 39521\n",
       "city                      39521\n",
       "last_trip_date            39521\n",
       "phone                     39521\n",
       "signup_date               39521\n",
       "surge_pct                 39521\n",
       "trips_in_first_30_days    39521\n",
       "luxury_car_user           39521\n",
       "weekday_pct               39521\n",
       "active                    39521\n",
       "dtype: int64"
      ]
     },
     "execution_count": 52,
     "metadata": {},
     "output_type": "execute_result"
    }
   ],
   "source": [
    "df.count()"
   ]
  },
  {
   "cell_type": "markdown",
   "metadata": {},
   "source": [
    "### Drop Date columns"
   ]
  },
  {
   "cell_type": "code",
   "execution_count": 53,
   "metadata": {
    "collapsed": false
   },
   "outputs": [],
   "source": [
    "df.drop(dtype_dict[\"date_vars\"], axis=1, inplace=True)"
   ]
  },
  {
   "cell_type": "code",
   "execution_count": 54,
   "metadata": {
    "collapsed": false
   },
   "outputs": [
    {
     "name": "stdout",
     "output_type": "stream",
     "text": [
      "<class 'pandas.core.frame.DataFrame'>\n",
      "Int64Index: 39521 entries, 0 to 39999\n",
      "Data columns (total 11 columns):\n",
      "avg_dist                  39521 non-null float64\n",
      "avg_rating_by_driver      39521 non-null float64\n",
      "avg_rating_of_driver      39521 non-null float64\n",
      "avg_surge                 39521 non-null float64\n",
      "city                      39521 non-null object\n",
      "phone                     39521 non-null object\n",
      "surge_pct                 39521 non-null float64\n",
      "trips_in_first_30_days    39521 non-null int64\n",
      "luxury_car_user           39521 non-null bool\n",
      "weekday_pct               39521 non-null float64\n",
      "active                    39521 non-null bool\n",
      "dtypes: bool(2), float64(6), int64(1), object(2)\n",
      "memory usage: 3.1+ MB\n"
     ]
    }
   ],
   "source": [
    "df.info()"
   ]
  },
  {
   "cell_type": "markdown",
   "metadata": {},
   "source": [
    "### Create label encoders for categorical variables\n"
   ]
  },
  {
   "cell_type": "code",
   "execution_count": 1,
   "metadata": {
    "collapsed": true
   },
   "outputs": [
    {
     "name": "stderr",
     "output_type": "stream",
     "text": [
      "//anaconda/lib/python2.7/site-packages/sklearn/cross_validation.py:41: DeprecationWarning: This module was deprecated in version 0.18 in favor of the model_selection module into which all the refactored classes and functions are moved. Also note that the interface of the new CV iterators are different from that of this module. This module will be removed in 0.20.\n",
      "  \"This module will be removed in 0.20.\", DeprecationWarning)\n",
      "//anaconda/lib/python2.7/site-packages/sklearn/grid_search.py:42: DeprecationWarning: This module was deprecated in version 0.18 in favor of the model_selection module into which all the refactored classes and functions are moved. This module will be removed in 0.20.\n",
      "  DeprecationWarning)\n"
     ]
    }
   ],
   "source": [
    "#import general-purpose tools\n",
    "from sklearn import pipeline\n",
    "from sklearn import preprocessing\n",
    "from sklearn.grid_search import GridSearchCV\n",
    "from sklearn import model_selection\n",
    "from sklearn import metrics"
   ]
  },
  {
   "cell_type": "code",
   "execution_count": 71,
   "metadata": {
    "collapsed": false
   },
   "outputs": [],
   "source": [
    "import models \n",
    "from sklearn import linear_model\n",
    "from sklearn import neighbors\n",
    "from sklearn import ensemble\n",
    "from sklearn import svm"
   ]
  },
  {
   "cell_type": "code",
   "execution_count": 56,
   "metadata": {
    "collapsed": true
   },
   "outputs": [],
   "source": [
    "df_before_label_encoding = df_before_impute.copy()"
   ]
  },
  {
   "cell_type": "code",
   "execution_count": 57,
   "metadata": {
    "collapsed": true
   },
   "outputs": [],
   "source": [
    "for var in dtype_dict[\"cat_vars\"]:\n",
    "    number = preprocessing.LabelEncoder()\n",
    "    df[var] = number.fit_transform(df[var].astype('str'))"
   ]
  },
  {
   "cell_type": "code",
   "execution_count": 58,
   "metadata": {
    "collapsed": false
   },
   "outputs": [
    {
     "name": "stdout",
     "output_type": "stream",
     "text": [
      "<class 'pandas.core.frame.DataFrame'>\n",
      "Int64Index: 39521 entries, 0 to 39999\n",
      "Data columns (total 11 columns):\n",
      "avg_dist                  39521 non-null float64\n",
      "avg_rating_by_driver      39521 non-null float64\n",
      "avg_rating_of_driver      39521 non-null float64\n",
      "avg_surge                 39521 non-null float64\n",
      "city                      39521 non-null int64\n",
      "phone                     39521 non-null int64\n",
      "surge_pct                 39521 non-null float64\n",
      "trips_in_first_30_days    39521 non-null int64\n",
      "luxury_car_user           39521 non-null bool\n",
      "weekday_pct               39521 non-null float64\n",
      "active                    39521 non-null bool\n",
      "dtypes: bool(2), float64(6), int64(3)\n",
      "memory usage: 3.1 MB\n"
     ]
    }
   ],
   "source": [
    "df.info()"
   ]
  },
  {
   "cell_type": "markdown",
   "metadata": {},
   "source": [
    "## Scale data"
   ]
  },
  {
   "cell_type": "code",
   "execution_count": 59,
   "metadata": {
    "collapsed": true
   },
   "outputs": [],
   "source": [
    "scaler = StandardScaler()"
   ]
  },
  {
   "cell_type": "code",
   "execution_count": 60,
   "metadata": {
    "collapsed": false
   },
   "outputs": [
    {
     "data": {
      "text/plain": [
       "array([[  2.06945115e-01,   4.96909912e-01,   7.08980767e-01, ...,\n",
       "         -7.74664616e-01,   1.05712376e+00,  -7.61630856e-01],\n",
       "       [  4.06489899e-01,   4.96909912e-01,   7.08980767e-01, ...,\n",
       "          1.29088121e+00,  -1.64350738e+00,  -7.61630856e-01],\n",
       "       [  2.80102730e+00,  -1.73327924e+00,  -2.51272116e-04, ...,\n",
       "          1.29088121e+00,   1.05712376e+00,  -7.61630856e-01],\n",
       "       ..., \n",
       "       [ -4.87898327e-01,   4.96909912e-01,   7.08980767e-01, ...,\n",
       "          1.29088121e+00,  -7.44197209e-01,   1.31297202e+00],\n",
       "       [ -4.07724084e-01,  -1.06422250e+00,  -2.31809733e+00, ...,\n",
       "         -7.74664616e-01,  -2.31286941e-02,  -7.61630856e-01],\n",
       "       [ -2.72318695e-01,  -1.72146834e-01,   7.08980767e-01, ...,\n",
       "          1.29088121e+00,  -4.84936620e-01,   1.31297202e+00]])"
      ]
     },
     "execution_count": 60,
     "metadata": {},
     "output_type": "execute_result"
    }
   ],
   "source": [
    "scaler.fit_transform(df)"
   ]
  },
  {
   "cell_type": "markdown",
   "metadata": {},
   "source": [
    "## Stage 3. Data Modelling Stage 3. Data Modelling :\n",
    "\n",
    "I recommend to use any one of GBM / Random Forest techniques, depending on the business problem. These two techniques are extremely effective to create a benchmark solution. I have seen data scientist are using these two methods often as their first model and in some cases it acts as a final model also. This will take maximum amount of time (~4-5 minutes).\n",
    "\n",
    "I recommend to use any one of GBM / Random Forest techniques, depending on the business problem. These two techniques are extremely effective to create a benchmark solution. I have seen data scientist are using these two methods often as their first model and in some cases it acts as a final model also. This will take maximum amount of time (~4-5 minutes)."
   ]
  },
  {
   "cell_type": "markdown",
   "metadata": {},
   "source": [
    "## Split dataset"
   ]
  },
  {
   "cell_type": "markdown",
   "metadata": {},
   "source": [
    "### split off X and y"
   ]
  },
  {
   "cell_type": "code",
   "execution_count": 61,
   "metadata": {
    "collapsed": false,
    "scrolled": true
   },
   "outputs": [],
   "source": [
    "y = df[\"active\"].values"
   ]
  },
  {
   "cell_type": "code",
   "execution_count": 62,
   "metadata": {
    "collapsed": false
   },
   "outputs": [],
   "source": [
    "X = df.drop('active', axis=1).values"
   ]
  },
  {
   "cell_type": "code",
   "execution_count": 80,
   "metadata": {
    "collapsed": true
   },
   "outputs": [],
   "source": [
    "feature_cols = df.drop('active', axis=1).columns"
   ]
  },
  {
   "cell_type": "code",
   "execution_count": 63,
   "metadata": {
    "collapsed": false
   },
   "outputs": [
    {
     "data": {
      "text/html": [
       "<div>\n",
       "<style>\n",
       "    .dataframe thead tr:only-child th {\n",
       "        text-align: right;\n",
       "    }\n",
       "\n",
       "    .dataframe thead th {\n",
       "        text-align: left;\n",
       "    }\n",
       "\n",
       "    .dataframe tbody tr th {\n",
       "        vertical-align: top;\n",
       "    }\n",
       "</style>\n",
       "<table border=\"1\" class=\"dataframe\">\n",
       "  <thead>\n",
       "    <tr style=\"text-align: right;\">\n",
       "      <th></th>\n",
       "      <th>avg_dist</th>\n",
       "      <th>avg_rating_by_driver</th>\n",
       "      <th>avg_rating_of_driver</th>\n",
       "      <th>avg_surge</th>\n",
       "      <th>city</th>\n",
       "      <th>phone</th>\n",
       "      <th>surge_pct</th>\n",
       "      <th>trips_in_first_30_days</th>\n",
       "      <th>luxury_car_user</th>\n",
       "      <th>weekday_pct</th>\n",
       "      <th>active</th>\n",
       "    </tr>\n",
       "  </thead>\n",
       "  <tbody>\n",
       "    <tr>\n",
       "      <th>0</th>\n",
       "      <td>6.94</td>\n",
       "      <td>5.0</td>\n",
       "      <td>5.000000</td>\n",
       "      <td>1.00</td>\n",
       "      <td>0</td>\n",
       "      <td>0</td>\n",
       "      <td>0.0</td>\n",
       "      <td>0</td>\n",
       "      <td>False</td>\n",
       "      <td>100.0</td>\n",
       "      <td>False</td>\n",
       "    </tr>\n",
       "    <tr>\n",
       "      <th>1</th>\n",
       "      <td>8.06</td>\n",
       "      <td>5.0</td>\n",
       "      <td>5.000000</td>\n",
       "      <td>1.00</td>\n",
       "      <td>0</td>\n",
       "      <td>0</td>\n",
       "      <td>0.0</td>\n",
       "      <td>2</td>\n",
       "      <td>True</td>\n",
       "      <td>0.0</td>\n",
       "      <td>False</td>\n",
       "    </tr>\n",
       "    <tr>\n",
       "      <th>2</th>\n",
       "      <td>21.50</td>\n",
       "      <td>4.0</td>\n",
       "      <td>4.601697</td>\n",
       "      <td>1.00</td>\n",
       "      <td>2</td>\n",
       "      <td>1</td>\n",
       "      <td>0.0</td>\n",
       "      <td>1</td>\n",
       "      <td>True</td>\n",
       "      <td>100.0</td>\n",
       "      <td>False</td>\n",
       "    </tr>\n",
       "    <tr>\n",
       "      <th>3</th>\n",
       "      <td>9.46</td>\n",
       "      <td>5.0</td>\n",
       "      <td>4.601697</td>\n",
       "      <td>2.75</td>\n",
       "      <td>2</td>\n",
       "      <td>0</td>\n",
       "      <td>100.0</td>\n",
       "      <td>1</td>\n",
       "      <td>False</td>\n",
       "      <td>100.0</td>\n",
       "      <td>False</td>\n",
       "    </tr>\n",
       "    <tr>\n",
       "      <th>4</th>\n",
       "      <td>13.77</td>\n",
       "      <td>5.0</td>\n",
       "      <td>4.601697</td>\n",
       "      <td>1.00</td>\n",
       "      <td>2</td>\n",
       "      <td>1</td>\n",
       "      <td>0.0</td>\n",
       "      <td>0</td>\n",
       "      <td>False</td>\n",
       "      <td>100.0</td>\n",
       "      <td>False</td>\n",
       "    </tr>\n",
       "  </tbody>\n",
       "</table>\n",
       "</div>"
      ],
      "text/plain": [
       "   avg_dist  avg_rating_by_driver  avg_rating_of_driver  avg_surge  city  \\\n",
       "0      6.94                   5.0              5.000000       1.00     0   \n",
       "1      8.06                   5.0              5.000000       1.00     0   \n",
       "2     21.50                   4.0              4.601697       1.00     2   \n",
       "3      9.46                   5.0              4.601697       2.75     2   \n",
       "4     13.77                   5.0              4.601697       1.00     2   \n",
       "\n",
       "   phone  surge_pct  trips_in_first_30_days  luxury_car_user  weekday_pct  \\\n",
       "0      0        0.0                       0            False        100.0   \n",
       "1      0        0.0                       2             True          0.0   \n",
       "2      1        0.0                       1             True        100.0   \n",
       "3      0      100.0                       1            False        100.0   \n",
       "4      1        0.0                       0            False        100.0   \n",
       "\n",
       "   active  \n",
       "0   False  \n",
       "1   False  \n",
       "2   False  \n",
       "3   False  \n",
       "4   False  "
      ]
     },
     "execution_count": 63,
     "metadata": {},
     "output_type": "execute_result"
    }
   ],
   "source": [
    "df.head()"
   ]
  },
  {
   "cell_type": "code",
   "execution_count": 64,
   "metadata": {
    "collapsed": false
   },
   "outputs": [
    {
     "data": {
      "text/plain": [
       "array([[6.94, 5.0, 5.0, 1.0, 0, 0, 0.0, 0, False, 100.0],\n",
       "       [8.06, 5.0, 5.0, 1.0, 0, 0, 0.0, 2, True, 0.0],\n",
       "       [21.5, 4.0, 4.601696940726505, 1.0, 2, 1, 0.0, 1, True, 100.0],\n",
       "       [9.46, 5.0, 4.601696940726505, 2.75, 2, 0, 100.0, 1, False, 100.0],\n",
       "       [13.77, 5.0, 4.601696940726505, 1.0, 2, 1, 0.0, 0, False, 100.0]], dtype=object)"
      ]
     },
     "execution_count": 64,
     "metadata": {},
     "output_type": "execute_result"
    }
   ],
   "source": [
    "X[:5,:]"
   ]
  },
  {
   "cell_type": "code",
   "execution_count": 65,
   "metadata": {
    "collapsed": false,
    "scrolled": true
   },
   "outputs": [
    {
     "name": "stdout",
     "output_type": "stream",
     "text": [
      "y = [False False False False False]\n",
      "\n",
      "****************************************************************************************************\n",
      "X = [[6.94 5.0 5.0 1.0 0]\n",
      " [8.06 5.0 5.0 1.0 0]\n",
      " [21.5 4.0 4.601696940726505 1.0 2]\n",
      " ..., \n",
      " [3.04 5.0 5.0 1.0 2]\n",
      " [3.49 4.3 3.3 1.5 0]\n",
      " [4.25 4.7 5.0 1.0 0]]\n"
     ]
    }
   ],
   "source": [
    "print \"y = {}\".format(y[:5])\n",
    "print \"\\n\", \"*\"*100\n",
    "print \"X = {}\".format(X[:,:5])"
   ]
  },
  {
   "cell_type": "markdown",
   "metadata": {},
   "source": [
    "### split into test and train"
   ]
  },
  {
   "cell_type": "code",
   "execution_count": 66,
   "metadata": {
    "collapsed": true
   },
   "outputs": [],
   "source": [
    "from sklearn.model_selection import train_test_split"
   ]
  },
  {
   "cell_type": "code",
   "execution_count": 67,
   "metadata": {
    "collapsed": true
   },
   "outputs": [],
   "source": [
    "X_train, X_test, y_train, y_test = train_test_split(X, y, test_size=0.3, random_state=300)"
   ]
  },
  {
   "cell_type": "code",
   "execution_count": 68,
   "metadata": {
    "collapsed": false
   },
   "outputs": [
    {
     "data": {
      "text/plain": [
       "array([[15.42, 5.0, 5.0, 1.0, 2, 0, 0.0, 1, False, 0.0],\n",
       "       [5.31, 4.8, 4.4, 1.2, 2, 1, 16.4, 15, True, 70.9],\n",
       "       [6.07, 4.3, 4.8, 1.06, 2, 1, 8.3, 15, True, 69.4],\n",
       "       [2.83, 5.0, 4.6, 1.0, 2, 1, 0.0, 1, True, 63.6],\n",
       "       [2.96, 5.0, 4.0, 1.0, 2, 1, 0.0, 3, False, 25.0]], dtype=object)"
      ]
     },
     "execution_count": 68,
     "metadata": {},
     "output_type": "execute_result"
    }
   ],
   "source": [
    "X_train[:5,:]"
   ]
  },
  {
   "cell_type": "markdown",
   "metadata": {},
   "source": [
    "## Model Fitting"
   ]
  },
  {
   "cell_type": "code",
   "execution_count": null,
   "metadata": {
    "collapsed": true
   },
   "outputs": [],
   "source": [
    "#build Models\n",
    "lr = linear_model.LogisticRegression()\n",
    "sgd = linear_model.SGDClassifier\n",
    "knn = neighbors.KNeighborsClassifier\n",
    "svm.SVC\n",
    "ensemble.RandomForestClassifier\n",
    "ensemble.GradientBoostingClassifier"
   ]
  },
  {
   "cell_type": "markdown",
   "metadata": {},
   "source": [
    "### Gradient Boosting Classifier"
   ]
  },
  {
   "cell_type": "code",
   "execution_count": 93,
   "metadata": {
    "collapsed": false
   },
   "outputs": [],
   "source": [
    "gbc = skl.ensemble.GradientBoostingClassifier()"
   ]
  },
  {
   "cell_type": "code",
   "execution_count": 94,
   "metadata": {
    "collapsed": false,
    "scrolled": true
   },
   "outputs": [
    {
     "data": {
      "text/plain": [
       "GradientBoostingClassifier(criterion='friedman_mse', init=None,\n",
       "              learning_rate=0.1, loss='deviance', max_depth=3,\n",
       "              max_features=None, max_leaf_nodes=None,\n",
       "              min_impurity_decrease=0.0, min_impurity_split=None,\n",
       "              min_samples_leaf=1, min_samples_split=2,\n",
       "              min_weight_fraction_leaf=0.0, n_estimators=100,\n",
       "              presort='auto', random_state=None, subsample=1.0, verbose=0,\n",
       "              warm_start=False)"
      ]
     },
     "execution_count": 94,
     "metadata": {},
     "output_type": "execute_result"
    }
   ],
   "source": [
    "gbc.fit(X_train, y_train)"
   ]
  },
  {
   "cell_type": "code",
   "execution_count": 83,
   "metadata": {
    "collapsed": false
   },
   "outputs": [
    {
     "data": {
      "text/plain": [
       "0.79219026735261866"
      ]
     },
     "execution_count": 83,
     "metadata": {},
     "output_type": "execute_result"
    }
   ],
   "source": [
    "gbc.score(X_test, y_test)"
   ]
  },
  {
   "cell_type": "code",
   "execution_count": 84,
   "metadata": {
    "collapsed": true
   },
   "outputs": [],
   "source": [
    "from sklearn.cross_validation import cross_val_predict, cross_val_score"
   ]
  },
  {
   "cell_type": "code",
   "execution_count": 85,
   "metadata": {
    "collapsed": true
   },
   "outputs": [],
   "source": [
    "from sklearn.ensemble import GradientBoostingClassifier"
   ]
  },
  {
   "cell_type": "code",
   "execution_count": 86,
   "metadata": {
    "collapsed": true
   },
   "outputs": [],
   "source": [
    "gbc_cv = cross_val_predict(gbc, X_train, y_train)"
   ]
  },
  {
   "cell_type": "code",
   "execution_count": 87,
   "metadata": {
    "collapsed": false
   },
   "outputs": [],
   "source": [
    "gbc_scores = cross_val_score(gbc, X_train, y_train, cv=5)"
   ]
  },
  {
   "cell_type": "code",
   "execution_count": 88,
   "metadata": {
    "collapsed": false,
    "scrolled": true
   },
   "outputs": [
    {
     "data": {
      "text/plain": [
       "0.78889523569814923"
      ]
     },
     "execution_count": 88,
     "metadata": {},
     "output_type": "execute_result"
    }
   ],
   "source": [
    "gbc_scores.mean()"
   ]
  },
  {
   "cell_type": "code",
   "execution_count": 89,
   "metadata": {
    "collapsed": false
   },
   "outputs": [
    {
     "data": {
      "text/plain": [
       "array([ 0.10806285,  0.07379898,  0.07535759,  0.0357195 ,  0.19462484,\n",
       "        0.07388431,  0.11222045,  0.09748392,  0.06185027,  0.16699728])"
      ]
     },
     "execution_count": 89,
     "metadata": {},
     "output_type": "execute_result"
    }
   ],
   "source": [
    "gbc.feature_importances_"
   ]
  },
  {
   "cell_type": "code",
   "execution_count": 90,
   "metadata": {
    "collapsed": false
   },
   "outputs": [
    {
     "data": {
      "text/plain": [
       "Index([u'avg_dist', u'avg_rating_by_driver', u'avg_rating_of_driver',\n",
       "       u'avg_surge', u'city', u'phone', u'surge_pct',\n",
       "       u'trips_in_first_30_days', u'luxury_car_user', u'weekday_pct'],\n",
       "      dtype='object')"
      ]
     },
     "execution_count": 90,
     "metadata": {},
     "output_type": "execute_result"
    }
   ],
   "source": [
    "feature_cols"
   ]
  },
  {
   "cell_type": "code",
   "execution_count": 284,
   "metadata": {
    "collapsed": false
   },
   "outputs": [],
   "source": [
    "gbc_importances = pd.DataFrame(zip(feature_cols, gbc.feature_importances_), columns=[\"Features\", \"Importances\"])"
   ]
  },
  {
   "cell_type": "code",
   "execution_count": 285,
   "metadata": {
    "collapsed": false
   },
   "outputs": [
    {
     "data": {
      "text/plain": [
       "<matplotlib.axes._subplots.AxesSubplot at 0x11920ee10>"
      ]
     },
     "execution_count": 285,
     "metadata": {},
     "output_type": "execute_result"
    },
    {
     "data": {
      "image/png": "[encoded data removed]",
      "text/plain": [
       "<matplotlib.figure.Figure at 0x118d1e110>"
      ]
     },
     "metadata": {},
     "output_type": "display_data"
    }
   ],
   "source": [
    "gbc_importances[[\"Features\", \"Importances\"]].sort_values(\"Importances\", ascending=False).plot.bar(x=\"Features\",fontsize=15)"
   ]
  },
  {
   "cell_type": "markdown",
   "metadata": {},
   "source": [
    "## Random Forest"
   ]
  },
  {
   "cell_type": "code",
   "execution_count": 95,
   "metadata": {
    "collapsed": true
   },
   "outputs": [],
   "source": [
    "from sklearn.ensemble import RandomForestClassifier"
   ]
  },
  {
   "cell_type": "code",
   "execution_count": 96,
   "metadata": {
    "collapsed": false
   },
   "outputs": [],
   "source": [
    "rfc = ensemble.RandomForestClassifier()"
   ]
  },
  {
   "cell_type": "code",
   "execution_count": 97,
   "metadata": {
    "collapsed": false
   },
   "outputs": [
    {
     "data": {
      "text/plain": [
       "RandomForestClassifier(bootstrap=True, class_weight=None, criterion='gini',\n",
       "            max_depth=None, max_features='auto', max_leaf_nodes=None,\n",
       "            min_impurity_decrease=0.0, min_impurity_split=None,\n",
       "            min_samples_leaf=1, min_samples_split=2,\n",
       "            min_weight_fraction_leaf=0.0, n_estimators=10, n_jobs=1,\n",
       "            oob_score=False, random_state=None, verbose=0,\n",
       "            warm_start=False)"
      ]
     },
     "execution_count": 97,
     "metadata": {},
     "output_type": "execute_result"
    }
   ],
   "source": [
    "rfc.fit(X_train, y_train)"
   ]
  },
  {
   "cell_type": "code",
   "execution_count": 98,
   "metadata": {
    "collapsed": false,
    "scrolled": false
   },
   "outputs": [
    {
     "data": {
      "text/plain": [
       "0.75179219026735267"
      ]
     },
     "execution_count": 98,
     "metadata": {},
     "output_type": "execute_result"
    }
   ],
   "source": [
    "rfc.score(X_test, y_test)"
   ]
  },
  {
   "cell_type": "code",
   "execution_count": 99,
   "metadata": {
    "collapsed": false
   },
   "outputs": [],
   "source": [
    "rfc_scores = model_selection.cross_val_score(rfc, X_train, y_train, cv=5)"
   ]
  },
  {
   "cell_type": "code",
   "execution_count": 100,
   "metadata": {
    "collapsed": false,
    "scrolled": true
   },
   "outputs": [
    {
     "data": {
      "text/plain": [
       "0.75028938313849236"
      ]
     },
     "execution_count": 100,
     "metadata": {},
     "output_type": "execute_result"
    }
   ],
   "source": [
    "np.mean(rfc_scores)"
   ]
  },
  {
   "cell_type": "code",
   "execution_count": 101,
   "metadata": {
    "collapsed": false
   },
   "outputs": [],
   "source": [
    "rfc_importances = pd.DataFrame(zip(feature_cols, rfc.feature_importances_), columns=[\"Features\", \"Importances\"])"
   ]
  },
  {
   "cell_type": "code",
   "execution_count": 278,
   "metadata": {
    "collapsed": false,
    "scrolled": false
   },
   "outputs": [
    {
     "data": {
      "text/plain": [
       "<matplotlib.axes._subplots.AxesSubplot at 0x118ca20d0>"
      ]
     },
     "execution_count": 278,
     "metadata": {},
     "output_type": "execute_result"
    },
    {
     "data": {
      "image/png": "[encoded data removed]",
      "text/plain": [
       "<matplotlib.figure.Figure at 0x118cd0d90>"
      ]
     },
     "metadata": {},
     "output_type": "display_data"
    }
   ],
   "source": [
    "rfc_importances[[\"Features\", \"Importances\"]].sort_values(\"Importances\", ascending=False).plot.bar(x=\"Features\",fontsize=15)"
   ]
  },
  {
   "cell_type": "markdown",
   "metadata": {},
   "source": [
    "## AdaBoost"
   ]
  },
  {
   "cell_type": "code",
   "execution_count": 264,
   "metadata": {
    "collapsed": true
   },
   "outputs": [],
   "source": [
    "from sklearn.ensemble import AdaBoostClassifier"
   ]
  },
  {
   "cell_type": "code",
   "execution_count": 265,
   "metadata": {
    "collapsed": true
   },
   "outputs": [],
   "source": [
    "abc = ensemble.AdaBoostClassifier()"
   ]
  },
  {
   "cell_type": "code",
   "execution_count": 266,
   "metadata": {
    "collapsed": false
   },
   "outputs": [
    {
     "data": {
      "text/plain": [
       "AdaBoostClassifier(algorithm='SAMME.R', base_estimator=None,\n",
       "          learning_rate=1.0, n_estimators=50, random_state=None)"
      ]
     },
     "execution_count": 266,
     "metadata": {},
     "output_type": "execute_result"
    }
   ],
   "source": [
    "abc.fit(X_train, y_train)"
   ]
  },
  {
   "cell_type": "code",
   "execution_count": 267,
   "metadata": {
    "collapsed": false
   },
   "outputs": [
    {
     "data": {
      "text/plain": [
       "0.78831070253858482"
      ]
     },
     "execution_count": 267,
     "metadata": {},
     "output_type": "execute_result"
    }
   ],
   "source": [
    "abc.score(X_test, y_test)"
   ]
  },
  {
   "cell_type": "code",
   "execution_count": 268,
   "metadata": {
    "collapsed": false
   },
   "outputs": [],
   "source": [
    "abc_scores = model_selection.cross_val_score(rfc, X_train, y_train, cv=5)"
   ]
  },
  {
   "cell_type": "code",
   "execution_count": 272,
   "metadata": {
    "collapsed": false,
    "scrolled": true
   },
   "outputs": [
    {
     "data": {
      "text/plain": [
       "0.75365107716940327"
      ]
     },
     "execution_count": 272,
     "metadata": {},
     "output_type": "execute_result"
    }
   ],
   "source": [
    "np.mean(abc_scores)"
   ]
  },
  {
   "cell_type": "code",
   "execution_count": 275,
   "metadata": {
    "collapsed": false
   },
   "outputs": [],
   "source": [
    "abc_importances = pd.DataFrame(zip(feature_cols, abc.feature_importances_), columns=[\"Features\", \"Importances\"])"
   ]
  },
  {
   "cell_type": "code",
   "execution_count": 276,
   "metadata": {
    "collapsed": false,
    "scrolled": false
   },
   "outputs": [
    {
     "data": {
      "text/plain": [
       "<matplotlib.axes._subplots.AxesSubplot at 0x11974e3d0>"
      ]
     },
     "execution_count": 276,
     "metadata": {},
     "output_type": "execute_result"
    },
    {
     "data": {
      "image/png": "[encoded data removed]",
      "text/plain": [
       "<matplotlib.figure.Figure at 0x118a7d310>"
      ]
     },
     "metadata": {},
     "output_type": "display_data"
    }
   ],
   "source": [
    "abc_importances[[\"Features\", \"Importances\"]].sort_values(\"Importances\", ascending=False).plot.bar(x=\"Features\",fontsize=15)"
   ]
  },
  {
   "cell_type": "markdown",
   "metadata": {},
   "source": [
    "## XG Boost"
   ]
  },
  {
   "cell_type": "code",
   "execution_count": 103,
   "metadata": {
    "collapsed": false
   },
   "outputs": [
    {
     "ename": "NameError",
     "evalue": "name 'xgb' is not defined",
     "output_type": "error",
     "traceback": [
      "\u001b[0;31m---------------------------------------------------------------------------\u001b[0m",
      "\u001b[0;31mNameError\u001b[0m                                 Traceback (most recent call last)",
      "\u001b[0;32m<ipython-input-103-df541a161c43>\u001b[0m in \u001b[0;36m<module>\u001b[0;34m()\u001b[0m\n\u001b[0;32m----> 1\u001b[0;31m \u001b[0mbooster\u001b[0m \u001b[0;34m=\u001b[0m \u001b[0mxgb\u001b[0m\u001b[0;34m.\u001b[0m\u001b[0msklearn\u001b[0m\u001b[0;34m.\u001b[0m\u001b[0mXGBModel\u001b[0m\u001b[0;34m(\u001b[0m\u001b[0;34m)\u001b[0m\u001b[0;34m\u001b[0m\u001b[0m\n\u001b[0m",
      "\u001b[0;31mNameError\u001b[0m: name 'xgb' is not defined"
     ]
    }
   ],
   "source": [
    "# booster = xgb.sklearn.XGBModel()"
   ]
  },
  {
   "cell_type": "code",
   "execution_count": null,
   "metadata": {
    "collapsed": false
   },
   "outputs": [],
   "source": [
    "booster.fit(X_train, y_train)"
   ]
  },
  {
   "cell_type": "code",
   "execution_count": null,
   "metadata": {
    "collapsed": true
   },
   "outputs": [],
   "source": [
    "booster.score(X_train, y_train)"
   ]
  },
  {
   "cell_type": "markdown",
   "metadata": {},
   "source": [
    "## Grid search"
   ]
  },
  {
   "cell_type": "code",
   "execution_count": 212,
   "metadata": {
    "collapsed": true
   },
   "outputs": [
    {
     "name": "stdout",
     "output_type": "stream",
     "text": [
      "Fitting 3 folds for each of 18 candidates, totalling 54 fits\n",
      "[CV] max_features=0.75, learning_rate=0.001, max_depth=4 .............\n",
      "[CV] .... max_features=0.75, learning_rate=0.001, max_depth=4 -   4.9s\n",
      "[CV] max_features=0.75, learning_rate=0.001, max_depth=4 .............\n"
     ]
    },
    {
     "name": "stderr",
     "output_type": "stream",
     "text": [
      "[Parallel(n_jobs=1)]: Done   1 out of   1 | elapsed:    5.0s remaining:    0.0s\n"
     ]
    },
    {
     "name": "stdout",
     "output_type": "stream",
     "text": [
      "[CV] .... max_features=0.75, learning_rate=0.001, max_depth=4 -   4.7s\n",
      "[CV] max_features=0.75, learning_rate=0.001, max_depth=4 .............\n",
      "[CV] .... max_features=0.75, learning_rate=0.001, max_depth=4 -   4.7s\n",
      "[CV] max_features=0.9, learning_rate=0.001, max_depth=4 ..............\n",
      "[CV] ..... max_features=0.9, learning_rate=0.001, max_depth=4 -   5.6s\n",
      "[CV] max_features=0.9, learning_rate=0.001, max_depth=4 ..............\n",
      "[CV] ..... max_features=0.9, learning_rate=0.001, max_depth=4 -   5.8s\n",
      "[CV] max_features=0.9, learning_rate=0.001, max_depth=4 ..............\n",
      "[CV] ..... max_features=0.9, learning_rate=0.001, max_depth=4 -   6.7s\n",
      "[CV] max_features=1, learning_rate=0.001, max_depth=4 ................\n",
      "[CV] ....... max_features=1, learning_rate=0.001, max_depth=4 -   3.2s\n",
      "[CV] max_features=1, learning_rate=0.001, max_depth=4 ................\n",
      "[CV] ....... max_features=1, learning_rate=0.001, max_depth=4 -   2.6s\n",
      "[CV] max_features=1, learning_rate=0.001, max_depth=4 ................\n",
      "[CV] ....... max_features=1, learning_rate=0.001, max_depth=4 -   2.3s\n",
      "[CV] max_features=0.75, learning_rate=0.001, max_depth=6 .............\n",
      "[CV] .... max_features=0.75, learning_rate=0.001, max_depth=6 -   9.6s\n",
      "[CV] max_features=0.75, learning_rate=0.001, max_depth=6 .............\n",
      "[CV] .... max_features=0.75, learning_rate=0.001, max_depth=6 -   9.2s\n",
      "[CV] max_features=0.75, learning_rate=0.001, max_depth=6 .............\n",
      "[CV] .... max_features=0.75, learning_rate=0.001, max_depth=6 -   9.2s\n",
      "[CV] max_features=0.9, learning_rate=0.001, max_depth=6 ..............\n",
      "[CV] ..... max_features=0.9, learning_rate=0.001, max_depth=6 -  11.3s\n",
      "[CV] max_features=0.9, learning_rate=0.001, max_depth=6 ..............\n",
      "[CV] ..... max_features=0.9, learning_rate=0.001, max_depth=6 -  10.7s\n",
      "[CV] max_features=0.9, learning_rate=0.001, max_depth=6 ..............\n",
      "[CV] ..... max_features=0.9, learning_rate=0.001, max_depth=6 -  11.6s\n",
      "[CV] max_features=1, learning_rate=0.001, max_depth=6 ................\n",
      "[CV] ....... max_features=1, learning_rate=0.001, max_depth=6 -   4.6s\n",
      "[CV] max_features=1, learning_rate=0.001, max_depth=6 ................\n",
      "[CV] ....... max_features=1, learning_rate=0.001, max_depth=6 -   4.2s\n",
      "[CV] max_features=1, learning_rate=0.001, max_depth=6 ................\n",
      "[CV] ....... max_features=1, learning_rate=0.001, max_depth=6 -   4.3s\n",
      "[CV] max_features=0.75, learning_rate=0.01, max_depth=4 ..............\n",
      "[CV] ..... max_features=0.75, learning_rate=0.01, max_depth=4 -   4.7s\n",
      "[CV] max_features=0.75, learning_rate=0.01, max_depth=4 ..............\n",
      "[CV] ..... max_features=0.75, learning_rate=0.01, max_depth=4 -   4.7s\n",
      "[CV] max_features=0.75, learning_rate=0.01, max_depth=4 ..............\n",
      "[CV] ..... max_features=0.75, learning_rate=0.01, max_depth=4 -   4.6s\n",
      "[CV] max_features=0.9, learning_rate=0.01, max_depth=4 ...............\n",
      "[CV] ...... max_features=0.9, learning_rate=0.01, max_depth=4 -   5.3s\n",
      "[CV] max_features=0.9, learning_rate=0.01, max_depth=4 ...............\n",
      "[CV] ...... max_features=0.9, learning_rate=0.01, max_depth=4 -   5.4s\n",
      "[CV] max_features=0.9, learning_rate=0.01, max_depth=4 ...............\n",
      "[CV] ...... max_features=0.9, learning_rate=0.01, max_depth=4 -   5.5s\n",
      "[CV] max_features=1, learning_rate=0.01, max_depth=4 .................\n",
      "[CV] ........ max_features=1, learning_rate=0.01, max_depth=4 -   2.2s\n",
      "[CV] max_features=1, learning_rate=0.01, max_depth=4 .................\n",
      "[CV] ........ max_features=1, learning_rate=0.01, max_depth=4 -   2.3s\n",
      "[CV] max_features=1, learning_rate=0.01, max_depth=4 .................\n",
      "[CV] ........ max_features=1, learning_rate=0.01, max_depth=4 -   2.2s\n",
      "[CV] max_features=0.75, learning_rate=0.01, max_depth=6 ..............\n",
      "[CV] ..... max_features=0.75, learning_rate=0.01, max_depth=6 -   9.1s\n",
      "[CV] max_features=0.75, learning_rate=0.01, max_depth=6 ..............\n",
      "[CV] ..... max_features=0.75, learning_rate=0.01, max_depth=6 -   9.2s\n",
      "[CV] max_features=0.75, learning_rate=0.01, max_depth=6 ..............\n",
      "[CV] ..... max_features=0.75, learning_rate=0.01, max_depth=6 -   9.2s\n",
      "[CV] max_features=0.9, learning_rate=0.01, max_depth=6 ...............\n",
      "[CV] ...... max_features=0.9, learning_rate=0.01, max_depth=6 -  11.4s\n",
      "[CV] max_features=0.9, learning_rate=0.01, max_depth=6 ...............\n",
      "[CV] ...... max_features=0.9, learning_rate=0.01, max_depth=6 -  10.5s\n",
      "[CV] max_features=0.9, learning_rate=0.01, max_depth=6 ...............\n",
      "[CV] ...... max_features=0.9, learning_rate=0.01, max_depth=6 -  10.4s\n",
      "[CV] max_features=1, learning_rate=0.01, max_depth=6 .................\n",
      "[CV] ........ max_features=1, learning_rate=0.01, max_depth=6 -   4.1s\n",
      "[CV] max_features=1, learning_rate=0.01, max_depth=6 .................\n",
      "[CV] ........ max_features=1, learning_rate=0.01, max_depth=6 -   4.1s\n",
      "[CV] max_features=1, learning_rate=0.01, max_depth=6 .................\n",
      "[CV] ........ max_features=1, learning_rate=0.01, max_depth=6 -   4.3s\n",
      "[CV] max_features=0.75, learning_rate=0.1, max_depth=4 ...............\n",
      "[CV] ...... max_features=0.75, learning_rate=0.1, max_depth=4 -   4.6s\n",
      "[CV] max_features=0.75, learning_rate=0.1, max_depth=4 ...............\n",
      "[CV] ...... max_features=0.75, learning_rate=0.1, max_depth=4 -   4.6s\n",
      "[CV] max_features=0.75, learning_rate=0.1, max_depth=4 ...............\n",
      "[CV] ...... max_features=0.75, learning_rate=0.1, max_depth=4 -   4.1s\n",
      "[CV] max_features=0.9, learning_rate=0.1, max_depth=4 ................\n",
      "[CV] ....... max_features=0.9, learning_rate=0.1, max_depth=4 -   5.0s\n",
      "[CV] max_features=0.9, learning_rate=0.1, max_depth=4 ................\n",
      "[CV] ....... max_features=0.9, learning_rate=0.1, max_depth=4 -   5.2s\n",
      "[CV] max_features=0.9, learning_rate=0.1, max_depth=4 ................\n",
      "[CV] ....... max_features=0.9, learning_rate=0.1, max_depth=4 -   5.0s\n",
      "[CV] max_features=1, learning_rate=0.1, max_depth=4 ..................\n",
      "[CV] ......... max_features=1, learning_rate=0.1, max_depth=4 -   2.1s\n",
      "[CV] max_features=1, learning_rate=0.1, max_depth=4 ..................\n",
      "[CV] ......... max_features=1, learning_rate=0.1, max_depth=4 -   2.0s\n",
      "[CV] max_features=1, learning_rate=0.1, max_depth=4 ..................\n",
      "[CV] ......... max_features=1, learning_rate=0.1, max_depth=4 -   2.2s\n",
      "[CV] max_features=0.75, learning_rate=0.1, max_depth=6 ...............\n",
      "[CV] ...... max_features=0.75, learning_rate=0.1, max_depth=6 -   8.4s\n",
      "[CV] max_features=0.75, learning_rate=0.1, max_depth=6 ...............\n",
      "[CV] ...... max_features=0.75, learning_rate=0.1, max_depth=6 -   8.4s\n",
      "[CV] max_features=0.75, learning_rate=0.1, max_depth=6 ...............\n",
      "[CV] ...... max_features=0.75, learning_rate=0.1, max_depth=6 -   8.0s\n",
      "[CV] max_features=0.9, learning_rate=0.1, max_depth=6 ................\n",
      "[CV] ....... max_features=0.9, learning_rate=0.1, max_depth=6 -   9.8s\n",
      "[CV] max_features=0.9, learning_rate=0.1, max_depth=6 ................\n",
      "[CV] ....... max_features=0.9, learning_rate=0.1, max_depth=6 -   9.7s\n",
      "[CV] max_features=0.9, learning_rate=0.1, max_depth=6 ................\n",
      "[CV] ....... max_features=0.9, learning_rate=0.1, max_depth=6 -  10.0s\n",
      "[CV] max_features=1, learning_rate=0.1, max_depth=6 ..................\n",
      "[CV] ......... max_features=1, learning_rate=0.1, max_depth=6 -   3.9s\n",
      "[CV] max_features=1, learning_rate=0.1, max_depth=6 ..................\n",
      "[CV] ......... max_features=1, learning_rate=0.1, max_depth=6 -   3.8s\n",
      "[CV] max_features=1, learning_rate=0.1, max_depth=6 ..................\n",
      "[CV] ......... max_features=1, learning_rate=0.1, max_depth=6 -   3.8s\n"
     ]
    },
    {
     "name": "stderr",
     "output_type": "stream",
     "text": [
      "[Parallel(n_jobs=1)]: Done  54 out of  54 | elapsed:  5.4min finished\n"
     ]
    },
    {
     "ename": "NameError",
     "evalue": "name 'gs_cv_best_score_' is not defined",
     "output_type": "error",
     "traceback": [
      "\u001b[0;31m---------------------------------------------------------------------------\u001b[0m",
      "\u001b[0;31mNameError\u001b[0m                                 Traceback (most recent call last)",
      "\u001b[0;32m<ipython-input-212-67d8b9cb838f>\u001b[0m in \u001b[0;36m<module>\u001b[0;34m()\u001b[0m\n\u001b[1;32m      6\u001b[0m \u001b[0;34m\u001b[0m\u001b[0m\n\u001b[1;32m      7\u001b[0m \u001b[0mgs_cv\u001b[0m \u001b[0;34m=\u001b[0m \u001b[0mGridSearchCV\u001b[0m\u001b[0;34m(\u001b[0m\u001b[0mmodel\u001b[0m\u001b[0;34m,\u001b[0m \u001b[0mparam_grid\u001b[0m\u001b[0;34m,\u001b[0m \u001b[0mverbose\u001b[0m \u001b[0;34m=\u001b[0m \u001b[0;36m2\u001b[0m\u001b[0;34m)\u001b[0m\u001b[0;34m.\u001b[0m\u001b[0mfit\u001b[0m\u001b[0;34m(\u001b[0m\u001b[0mX_train\u001b[0m\u001b[0;34m,\u001b[0m\u001b[0my_train\u001b[0m\u001b[0;34m)\u001b[0m\u001b[0;34m\u001b[0m\u001b[0m\n\u001b[0;32m----> 8\u001b[0;31m \u001b[0mgs_cv_best_score_\u001b[0m\u001b[0;34m,\u001b[0m \u001b[0mgs_cv\u001b[0m\u001b[0;34m.\u001b[0m\u001b[0mbest_estimator_\u001b[0m\u001b[0;34m\u001b[0m\u001b[0m\n\u001b[0m",
      "\u001b[0;31mNameError\u001b[0m: name 'gs_cv_best_score_' is not defined"
     ]
    }
   ],
   "source": [
    "#GBC Grid Search\n",
    "param_grid = {'learning_rate': [0.001, 0.01, 0.1],\n",
    "             'max_depth': [4, 6],\n",
    "             'max_features': [0.75, 0.9, 1]}\n",
    "model = GradientBoostingClassifier(n_estimators=300)\n",
    "\n",
    "gs_cv = GridSearchCV(model, param_grid, verbose = 2).fit(X_train,y_train)\n",
    "gs_cv.best_score_, gs_cv.best_estimator_"
   ]
  },
  {
   "cell_type": "code",
   "execution_count": 221,
   "metadata": {
    "collapsed": false
   },
   "outputs": [
    {
     "data": {
      "text/plain": [
       "GradientBoostingClassifier(criterion='friedman_mse', init=None,\n",
       "              learning_rate=0.1, loss='deviance', max_depth=4,\n",
       "              max_features=0.9, max_leaf_nodes=None,\n",
       "              min_impurity_decrease=0.0, min_impurity_split=None,\n",
       "              min_samples_leaf=1, min_samples_split=2,\n",
       "              min_weight_fraction_leaf=0.0, n_estimators=300,\n",
       "              presort='auto', random_state=None, subsample=1.0, verbose=0,\n",
       "              warm_start=False)"
      ]
     },
     "execution_count": 221,
     "metadata": {},
     "output_type": "execute_result"
    }
   ],
   "source": [
    "gbc = gs_cv.best_estimator_\n",
    "gbc"
   ]
  },
  {
   "cell_type": "code",
   "execution_count": 292,
   "metadata": {
    "collapsed": false
   },
   "outputs": [
    {
     "data": {
      "text/plain": [
       "['n_estimators',\n",
       " 'base_estimator',\n",
       " 'random_state',\n",
       " 'learning_rate',\n",
       " 'algorithm']"
      ]
     },
     "execution_count": 292,
     "metadata": {},
     "output_type": "execute_result"
    }
   ],
   "source": [
    "AdaBoostClassifier().get_params().keys()"
   ]
  },
  {
   "cell_type": "code",
   "execution_count": 290,
   "metadata": {
    "collapsed": false
   },
   "outputs": [
    {
     "name": "stdout",
     "output_type": "stream",
     "text": [
      "Fitting 3 folds for each of 3 candidates, totalling 9 fits\n",
      "[CV] learning_rate=0.001 .............................................\n",
      "[CV] .................................... learning_rate=0.001 -   3.9s\n",
      "[CV] learning_rate=0.001 .............................................\n"
     ]
    },
    {
     "name": "stderr",
     "output_type": "stream",
     "text": [
      "[Parallel(n_jobs=1)]: Done   1 out of   1 | elapsed:    3.9s remaining:    0.0s\n"
     ]
    },
    {
     "name": "stdout",
     "output_type": "stream",
     "text": [
      "[CV] .................................... learning_rate=0.001 -   3.9s\n",
      "[CV] learning_rate=0.001 .............................................\n",
      "[CV] .................................... learning_rate=0.001 -   3.8s\n",
      "[CV] learning_rate=0.01 ..............................................\n",
      "[CV] ..................................... learning_rate=0.01 -   3.9s\n",
      "[CV] learning_rate=0.01 ..............................................\n",
      "[CV] ..................................... learning_rate=0.01 -   4.0s\n",
      "[CV] learning_rate=0.01 ..............................................\n",
      "[CV] ..................................... learning_rate=0.01 -   3.9s\n",
      "[CV] learning_rate=0.1 ...............................................\n",
      "[CV] ...................................... learning_rate=0.1 -   3.9s\n",
      "[CV] learning_rate=0.1 ...............................................\n",
      "[CV] ...................................... learning_rate=0.1 -   4.0s\n",
      "[CV] learning_rate=0.1 ...............................................\n",
      "[CV] ...................................... learning_rate=0.1 -   4.0s\n"
     ]
    },
    {
     "name": "stderr",
     "output_type": "stream",
     "text": [
      "[Parallel(n_jobs=1)]: Done   9 out of   9 | elapsed:   35.2s finished\n"
     ]
    },
    {
     "data": {
      "text/plain": [
       "(0.7831116252168884,\n",
       " AdaBoostClassifier(algorithm='SAMME.R', base_estimator=None,\n",
       "           learning_rate=0.1, n_estimators=300, random_state=None))"
      ]
     },
     "execution_count": 290,
     "metadata": {},
     "output_type": "execute_result"
    }
   ],
   "source": [
    "#ABC Grid Search\n",
    "param_grid = {'learning_rate': [0.001, 0.01, 0.1]}\n",
    "abc_model = AdaBoostClassifier(n_estimators=300)\n",
    "\n",
    "gs_cv_abc = GridSearchCV(abc_model, param_grid, verbose = 2).fit(X_train,y_train)\n",
    "gs_cv_abc.best_score_, gs_cv_abc.best_estimator_"
   ]
  },
  {
   "cell_type": "code",
   "execution_count": 309,
   "metadata": {
    "collapsed": false
   },
   "outputs": [
    {
     "data": {
      "text/plain": [
       "({'learning_rate': 0.1}, 0.7831116252168884)"
      ]
     },
     "execution_count": 309,
     "metadata": {},
     "output_type": "execute_result"
    }
   ],
   "source": [
    "gs_cv_abc.best_params_, gs_cv_abc.best_score_"
   ]
  },
  {
   "cell_type": "code",
   "execution_count": 310,
   "metadata": {
    "collapsed": true
   },
   "outputs": [],
   "source": [
    "abc = gs_cv_abc.best_estimator_"
   ]
  },
  {
   "cell_type": "code",
   "execution_count": 246,
   "metadata": {
    "collapsed": false
   },
   "outputs": [
    {
     "name": "stdout",
     "output_type": "stream",
     "text": [
      "Fitting 3 folds for each of 6 candidates, totalling 18 fits\n",
      "[CV] max_features=0.75, max_depth=4 ..................................\n",
      "[CV] ......................... max_features=0.75, max_depth=4 -   4.7s\n",
      "[CV] max_features=0.75, max_depth=4 ..................................\n"
     ]
    },
    {
     "name": "stderr",
     "output_type": "stream",
     "text": [
      "[Parallel(n_jobs=1)]: Done   1 out of   1 | elapsed:    4.7s remaining:    0.0s\n"
     ]
    },
    {
     "name": "stdout",
     "output_type": "stream",
     "text": [
      "[CV] ......................... max_features=0.75, max_depth=4 -   4.7s\n",
      "[CV] max_features=0.75, max_depth=4 ..................................\n",
      "[CV] ......................... max_features=0.75, max_depth=4 -   4.7s\n",
      "[CV] max_features=0.9, max_depth=4 ...................................\n",
      "[CV] .......................... max_features=0.9, max_depth=4 -   5.4s\n",
      "[CV] max_features=0.9, max_depth=4 ...................................\n",
      "[CV] .......................... max_features=0.9, max_depth=4 -   5.5s\n",
      "[CV] max_features=0.9, max_depth=4 ...................................\n",
      "[CV] .......................... max_features=0.9, max_depth=4 -   5.7s\n",
      "[CV] max_features=1, max_depth=4 .....................................\n",
      "[CV] ............................ max_features=1, max_depth=4 -   2.6s\n",
      "[CV] max_features=1, max_depth=4 .....................................\n",
      "[CV] ............................ max_features=1, max_depth=4 -   2.6s\n",
      "[CV] max_features=1, max_depth=4 .....................................\n",
      "[CV] ............................ max_features=1, max_depth=4 -   2.6s\n",
      "[CV] max_features=0.75, max_depth=6 ..................................\n",
      "[CV] ......................... max_features=0.75, max_depth=6 -   6.1s\n",
      "[CV] max_features=0.75, max_depth=6 ..................................\n",
      "[CV] ......................... max_features=0.75, max_depth=6 -   6.1s\n",
      "[CV] max_features=0.75, max_depth=6 ..................................\n",
      "[CV] ......................... max_features=0.75, max_depth=6 -   6.3s\n",
      "[CV] max_features=0.9, max_depth=6 ...................................\n",
      "[CV] .......................... max_features=0.9, max_depth=6 -   7.4s\n",
      "[CV] max_features=0.9, max_depth=6 ...................................\n",
      "[CV] .......................... max_features=0.9, max_depth=6 -   7.2s\n",
      "[CV] max_features=0.9, max_depth=6 ...................................\n",
      "[CV] .......................... max_features=0.9, max_depth=6 -   7.6s\n",
      "[CV] max_features=1, max_depth=6 .....................................\n",
      "[CV] ............................ max_features=1, max_depth=6 -   3.2s\n",
      "[CV] max_features=1, max_depth=6 .....................................\n",
      "[CV] ............................ max_features=1, max_depth=6 -   3.4s\n",
      "[CV] max_features=1, max_depth=6 .....................................\n",
      "[CV] ............................ max_features=1, max_depth=6 -   2.8s\n"
     ]
    },
    {
     "name": "stderr",
     "output_type": "stream",
     "text": [
      "[Parallel(n_jobs=1)]: Done  18 out of  18 | elapsed:  1.5min finished\n"
     ]
    },
    {
     "data": {
      "text/plain": [
       "(0.7751951995373048,\n",
       " RandomForestClassifier(bootstrap=True, class_weight=None, criterion='gini',\n",
       "             max_depth=6, max_features=0.75, max_leaf_nodes=None,\n",
       "             min_impurity_decrease=0.0, min_impurity_split=None,\n",
       "             min_samples_leaf=1, min_samples_split=2,\n",
       "             min_weight_fraction_leaf=0.0, n_estimators=300, n_jobs=1,\n",
       "             oob_score=False, random_state=None, verbose=0,\n",
       "             warm_start=False))"
      ]
     },
     "execution_count": 246,
     "metadata": {},
     "output_type": "execute_result"
    }
   ],
   "source": [
    "#RFC Grid Search\n",
    "param_grid_rf = {'max_depth': [4, 6],\n",
    "             'max_features': [0.75, 0.9, 1]}\n",
    "model_rf = RandomForestClassifier(n_estimators=300)\n",
    "\n",
    "gs_cv_rf = GridSearchCV(model_rf, param_grid_rf, verbose = 2).fit(X_train,y_train)\n",
    "gs_cv_rf.best_score_, gs_cv_rf.best_estimator_"
   ]
  },
  {
   "cell_type": "code",
   "execution_count": null,
   "metadata": {
    "collapsed": true
   },
   "outputs": [],
   "source": []
  },
  {
   "cell_type": "markdown",
   "metadata": {},
   "source": [
    "## Scoring and Comparing"
   ]
  },
  {
   "cell_type": "markdown",
   "metadata": {},
   "source": [
    "### GBC"
   ]
  },
  {
   "cell_type": "code",
   "execution_count": 220,
   "metadata": {
    "collapsed": false
   },
   "outputs": [],
   "source": [
    "gbc_predicts = gbc.predict(X_test)"
   ]
  },
  {
   "cell_type": "code",
   "execution_count": 222,
   "metadata": {
    "collapsed": false,
    "scrolled": true
   },
   "outputs": [
    {
     "data": {
      "text/plain": [
       "array([[6503,  934],\n",
       "       [1456, 2964]])"
      ]
     },
     "execution_count": 222,
     "metadata": {},
     "output_type": "execute_result"
    }
   ],
   "source": [
    "gbc_cm = metrics.confusion_matrix(y_pred=gbc_predicts , y_true=y_test)\n",
    "gbc_cm"
   ]
  },
  {
   "cell_type": "code",
   "execution_count": 224,
   "metadata": {
    "collapsed": false
   },
   "outputs": [],
   "source": [
    "gbc_cm_tn, gbc_cm_fn, gbc_cm_tp, gbc_cm_fp = gbc_cm[0][0], gbc_cm[1][0], gbc_cm[1][1], gbc_cm[0][1]"
   ]
  },
  {
   "cell_type": "code",
   "execution_count": 225,
   "metadata": {
    "collapsed": false
   },
   "outputs": [
    {
     "name": "stdout",
     "output_type": "stream",
     "text": [
      "True Negatives: 6503 \n",
      "False Negatives: 1456 \n",
      "True Positives: 2964 \n",
      "False Positives: 934\n"
     ]
    }
   ],
   "source": [
    "print \"True Negatives: {} \\nFalse Negatives: {} \\nTrue Positives: {} \\nFalse Positives: {}\".format(gbc_cm_tn, gbc_cm_fn, gbc_cm_tp, gbc_cm_fp )"
   ]
  },
  {
   "cell_type": "code",
   "execution_count": 226,
   "metadata": {
    "collapsed": false
   },
   "outputs": [
    {
     "data": {
      "text/plain": [
       "0.7984313064012819"
      ]
     },
     "execution_count": 226,
     "metadata": {},
     "output_type": "execute_result"
    }
   ],
   "source": [
    "gbc_accuracy = metrics.accuracy_score(y_pred=gbc_predicts , y_true=y_test)\n",
    "gbc_accuracy"
   ]
  },
  {
   "cell_type": "code",
   "execution_count": 228,
   "metadata": {
    "collapsed": false
   },
   "outputs": [
    {
     "data": {
      "text/plain": [
       "0.76038994356080036"
      ]
     },
     "execution_count": 228,
     "metadata": {},
     "output_type": "execute_result"
    }
   ],
   "source": [
    "gbc_precision = metrics.precision_score(y_pred=gbc_predicts , y_true=y_test)\n",
    "gbc_precision"
   ]
  },
  {
   "cell_type": "code",
   "execution_count": 229,
   "metadata": {
    "collapsed": false
   },
   "outputs": [
    {
     "data": {
      "text/plain": [
       "0.6705882352941176"
      ]
     },
     "execution_count": 229,
     "metadata": {},
     "output_type": "execute_result"
    }
   ],
   "source": [
    "gbc_recall = metrics.recall_score(y_pred=gbc_predicts , y_true=y_test)\n",
    "gbc_recall"
   ]
  },
  {
   "cell_type": "code",
   "execution_count": 230,
   "metadata": {
    "collapsed": false,
    "scrolled": true
   },
   "outputs": [
    {
     "name": "stdout",
     "output_type": "stream",
     "text": [
      "[ True False False ...,  True False  True] [ True False False ...,  True False  True]\n"
     ]
    },
    {
     "data": {
      "text/plain": [
       "(array([ 0.81706245,  0.76038994]),\n",
       " array([ 0.87441173,  0.67058824]),\n",
       " array([ 0.84476487,  0.71267132]),\n",
       " array([7437, 4420]))"
      ]
     },
     "execution_count": 230,
     "metadata": {},
     "output_type": "execute_result"
    }
   ],
   "source": [
    "print gbc_predicts, y_test\n",
    "metrics.precision_recall_fscore_support(y_pred=gbc_predicts , y_true=y_test)"
   ]
  },
  {
   "cell_type": "markdown",
   "metadata": {},
   "source": [
    "#### RFC"
   ]
  },
  {
   "cell_type": "code",
   "execution_count": 249,
   "metadata": {
    "collapsed": false
   },
   "outputs": [],
   "source": [
    "rfc_predicts = rfc.predict(X_test)"
   ]
  },
  {
   "cell_type": "code",
   "execution_count": 250,
   "metadata": {
    "collapsed": false,
    "scrolled": true
   },
   "outputs": [
    {
     "data": {
      "text/plain": [
       "array([[6248, 1189],\n",
       "       [1754, 2666]])"
      ]
     },
     "execution_count": 250,
     "metadata": {},
     "output_type": "execute_result"
    }
   ],
   "source": [
    "rfc_cm = metrics.confusion_matrix(y_pred=rfc_predicts , y_true=y_test)\n",
    "rfc_cm"
   ]
  },
  {
   "cell_type": "code",
   "execution_count": 253,
   "metadata": {
    "collapsed": false
   },
   "outputs": [],
   "source": [
    "rfc_cm_tn, rfc_cm_fn, rfc_cm_tp, rfc_cm_fp = rfc_cm[0][0], rfc_cm[1][0], rfc_cm[1][1], rfc_cm[0][1]"
   ]
  },
  {
   "cell_type": "code",
   "execution_count": 255,
   "metadata": {
    "collapsed": false
   },
   "outputs": [
    {
     "name": "stdout",
     "output_type": "stream",
     "text": [
      "True Negatives: 6248 \n",
      "False Negatives: 1754 \n",
      "True Positives: 2666 \n",
      "False Positives: 1189\n"
     ]
    }
   ],
   "source": [
    "print \"True Negatives: {} \\nFalse Negatives: {} \\nTrue Positives: {} \\nFalse Positives: {}\".format(rfc_cm_tn, rfc_cm_fn, rfc_cm_tp, rfc_cm_fp )"
   ]
  },
  {
   "cell_type": "code",
   "execution_count": 257,
   "metadata": {
    "collapsed": false
   },
   "outputs": [
    {
     "data": {
      "text/plain": [
       "0.75179219026735267"
      ]
     },
     "execution_count": 257,
     "metadata": {},
     "output_type": "execute_result"
    }
   ],
   "source": [
    "rfc_accuracy = metrics.accuracy_score(y_pred=rfc_predicts , y_true=y_test)\n",
    "rfc_accuracy"
   ]
  },
  {
   "cell_type": "code",
   "execution_count": 258,
   "metadata": {
    "collapsed": false
   },
   "outputs": [
    {
     "data": {
      "text/plain": [
       "0.69156939040207521"
      ]
     },
     "execution_count": 258,
     "metadata": {},
     "output_type": "execute_result"
    }
   ],
   "source": [
    "rfc_precision = metrics.precision_score(y_pred=rfc_predicts , y_true=y_test)\n",
    "rfc_precision"
   ]
  },
  {
   "cell_type": "code",
   "execution_count": 260,
   "metadata": {
    "collapsed": false
   },
   "outputs": [
    {
     "data": {
      "text/plain": [
       "0.6705882352941176"
      ]
     },
     "execution_count": 260,
     "metadata": {},
     "output_type": "execute_result"
    }
   ],
   "source": [
    "rfc_recall = metrics.recall_score(y_pred=gbc_predicts , y_true=y_test)\n",
    "rfc_recall"
   ]
  },
  {
   "cell_type": "code",
   "execution_count": 261,
   "metadata": {
    "collapsed": false,
    "scrolled": false
   },
   "outputs": [
    {
     "data": {
      "text/plain": [
       "(array([ 0.7808048 ,  0.69156939]),\n",
       " array([ 0.84012371,  0.60316742]),\n",
       " array([ 0.80937885,  0.64435045]),\n",
       " array([7437, 4420]))"
      ]
     },
     "execution_count": 261,
     "metadata": {},
     "output_type": "execute_result"
    }
   ],
   "source": [
    "metrics.precision_recall_fscore_support(y_pred=rfc_predicts , y_true=y_test)"
   ]
  },
  {
   "cell_type": "markdown",
   "metadata": {},
   "source": [
    "#### ABC"
   ]
  },
  {
   "cell_type": "code",
   "execution_count": 312,
   "metadata": {
    "collapsed": false
   },
   "outputs": [],
   "source": [
    "abc_predicts = abc.predict(X_test)"
   ]
  },
  {
   "cell_type": "code",
   "execution_count": 313,
   "metadata": {
    "collapsed": false,
    "scrolled": true
   },
   "outputs": [
    {
     "data": {
      "text/plain": [
       "array([[6547,  890],\n",
       "       [1671, 2749]])"
      ]
     },
     "execution_count": 313,
     "metadata": {},
     "output_type": "execute_result"
    }
   ],
   "source": [
    "abc_cm = metrics.confusion_matrix(y_pred=abc_predicts , y_true=y_test)\n",
    "abc_cm"
   ]
  },
  {
   "cell_type": "code",
   "execution_count": 317,
   "metadata": {
    "collapsed": false
   },
   "outputs": [],
   "source": [
    "abc_cm_tn, abc_cm_fn, abc_cm_tp, abc_cm_fp = abc_cm[0][0], abc_cm[1][0], abc_cm[1][1], abc_cm[0][1]"
   ]
  },
  {
   "cell_type": "code",
   "execution_count": 318,
   "metadata": {
    "collapsed": false
   },
   "outputs": [
    {
     "name": "stdout",
     "output_type": "stream",
     "text": [
      "True Negatives: 6547 \n",
      "False Negatives: 1671 \n",
      "True Positives: 2749 \n",
      "False Positives: 890\n"
     ]
    }
   ],
   "source": [
    "print \"True Negatives: {} \\nFalse Negatives: {} \\nTrue Positives: {} \\nFalse Positives: {}\".format(abc_cm_tn, abc_cm_fn, abc_cm_tp, abc_cm_fp )"
   ]
  },
  {
   "cell_type": "code",
   "execution_count": 323,
   "metadata": {
    "collapsed": false
   },
   "outputs": [
    {
     "data": {
      "text/plain": [
       "0.78400944589693855"
      ]
     },
     "execution_count": 323,
     "metadata": {},
     "output_type": "execute_result"
    }
   ],
   "source": [
    "abc_accuracy = metrics.accuracy_score(y_pred=abc_predicts , y_true=y_test)\n",
    "abc_accuracy"
   ]
  },
  {
   "cell_type": "code",
   "execution_count": 324,
   "metadata": {
    "collapsed": false
   },
   "outputs": [
    {
     "data": {
      "text/plain": [
       "0.75542731519648254"
      ]
     },
     "execution_count": 324,
     "metadata": {},
     "output_type": "execute_result"
    }
   ],
   "source": [
    "abc_precision = metrics.precision_score(y_pred=abc_predicts , y_true=y_test)\n",
    "abc_precision"
   ]
  },
  {
   "cell_type": "code",
   "execution_count": 325,
   "metadata": {
    "collapsed": false
   },
   "outputs": [
    {
     "data": {
      "text/plain": [
       "0.62194570135746607"
      ]
     },
     "execution_count": 325,
     "metadata": {},
     "output_type": "execute_result"
    }
   ],
   "source": [
    "abc_recall = metrics.recall_score(y_pred=abc_predicts , y_true=y_test)\n",
    "abc_recall"
   ]
  },
  {
   "cell_type": "code",
   "execution_count": 334,
   "metadata": {
    "collapsed": false,
    "scrolled": false
   },
   "outputs": [
    {
     "data": {
      "text/plain": [
       "(array([ 0.79666586,  0.75542732]),\n",
       " array([ 0.88032809,  0.6219457 ]),\n",
       " array([ 0.83641009,  0.68221864]),\n",
       " array([7437, 4420]))"
      ]
     },
     "execution_count": 334,
     "metadata": {},
     "output_type": "execute_result"
    }
   ],
   "source": [
    "abc_metrics = metrics.precision_recall_fscore_support(y_pred=abc_predicts , y_true=y_test)\n",
    "abc_metrics"
   ]
  },
  {
   "cell_type": "code",
   "execution_count": 336,
   "metadata": {
    "collapsed": false
   },
   "outputs": [
    {
     "ename": "SyntaxError",
     "evalue": "invalid syntax (<ipython-input-336-ef8b107a65bd>, line 1)",
     "output_type": "error",
     "traceback": [
      "\u001b[0;36m  File \u001b[0;32m\"<ipython-input-336-ef8b107a65bd>\"\u001b[0;36m, line \u001b[0;32m1\u001b[0m\n\u001b[0;31m    abc_metrics[,2]\u001b[0m\n\u001b[0m                ^\u001b[0m\n\u001b[0;31mSyntaxError\u001b[0m\u001b[0;31m:\u001b[0m invalid syntax\n"
     ]
    }
   ],
   "source": [
    "abc_metrics[,2]"
   ]
  },
  {
   "cell_type": "code",
   "execution_count": null,
   "metadata": {
    "collapsed": true
   },
   "outputs": [],
   "source": [
    "scores_dict = {\"Gradient Boosted Tree Classifier\":gbc_accuracy}"
   ]
  },
  {
   "cell_type": "code",
   "execution_count": null,
   "metadata": {
    "collapsed": true
   },
   "outputs": [],
   "source": [
    "scores_df = pd.DataFrame.from_dict(datadict, orient='index').reset_index()\n",
    "scores_df.columns=[\"accurracy\", \"precision\", \"recall\"]"
   ]
  },
  {
   "cell_type": "markdown",
   "metadata": {},
   "source": [
    "### ROC Curve"
   ]
  },
  {
   "cell_type": "code",
   "execution_count": 300,
   "metadata": {
    "collapsed": false,
    "scrolled": true
   },
   "outputs": [
    {
     "name": "stdout",
     "output_type": "stream",
     "text": [
      "[ 0.38593073  0.71775104  0.96641026 ...,  0.31066956  0.61880747\n",
      "  0.21335977]\n"
     ]
    }
   ],
   "source": [
    "gbc_probs = gbc.predict_proba(X_test)\n",
    "print gbc_probs[:, 0]\n"
   ]
  },
  {
   "cell_type": "code",
   "execution_count": 294,
   "metadata": {
    "collapsed": false,
    "scrolled": true
   },
   "outputs": [
    {
     "name": "stdout",
     "output_type": "stream",
     "text": [
      "[ 0.46444982 -0.93333324 -3.3593678  ...,  0.79699092 -0.48448961\n",
      "  1.30479122]\n"
     ]
    }
   ],
   "source": [
    "gbc_probs = gbc.decision_function(X_test)\n",
    "print gbc_probs"
   ]
  },
  {
   "cell_type": "code",
   "execution_count": 296,
   "metadata": {
    "collapsed": false
   },
   "outputs": [
    {
     "name": "stdout",
     "output_type": "stream",
     "text": [
      "[[ 0.5  0.5]\n",
      " [ 0.8  0.2]\n",
      " [ 1.   0. ]\n",
      " ..., \n",
      " [ 0.   1. ]\n",
      " [ 0.6  0.4]\n",
      " [ 0.3  0.7]]\n"
     ]
    }
   ],
   "source": [
    "rfc_probs = rfc.predict_proba(X_test)\n",
    "print rfc_probs"
   ]
  },
  {
   "cell_type": "code",
   "execution_count": 298,
   "metadata": {
    "collapsed": false
   },
   "outputs": [
    {
     "data": {
      "text/plain": [
       "array([ 0.00183686, -0.03134785, -0.06421364, ...,  0.00619204,\n",
       "       -0.00729208,  0.02483267])"
      ]
     },
     "execution_count": 298,
     "metadata": {},
     "output_type": "execute_result"
    }
   ],
   "source": [
    "abc.decision_function(X_test)"
   ]
  },
  {
   "cell_type": "code",
   "execution_count": 297,
   "metadata": {
    "collapsed": false
   },
   "outputs": [
    {
     "name": "stdout",
     "output_type": "stream",
     "text": [
      "[[ 0.49954078  0.50045922]\n",
      " [ 0.50783632  0.49216368]\n",
      " [ 0.51604789  0.48395211]\n",
      " ..., \n",
      " [ 0.498452    0.501548  ]\n",
      " [ 0.50182301  0.49817699]\n",
      " [ 0.49379215  0.50620785]]\n"
     ]
    }
   ],
   "source": [
    "abc_probs = abc.predict_proba(X_test)\n",
    "print abc_probs"
   ]
  },
  {
   "cell_type": "code",
   "execution_count": 233,
   "metadata": {
    "collapsed": false,
    "scrolled": true
   },
   "outputs": [
    {
     "data": {
      "text/plain": [
       "(array([  0.00000000e+00,   1.34462821e-04,   6.05082695e-03, ...,\n",
       "          9.99865537e-01,   1.00000000e+00,   1.00000000e+00]),\n",
       " array([ 0.        ,  0.        ,  0.        , ...,  0.99298643,\n",
       "         0.99298643,  1.        ]),\n",
       " array([ 1.99701416,  0.99701416,  0.98815221, ...,  0.02685906,\n",
       "         0.02648262,  0.00901362]))"
      ]
     },
     "execution_count": 233,
     "metadata": {},
     "output_type": "execute_result"
    }
   ],
   "source": [
    "metrics.roc_curve(y_test, gbc_probas[:,0])"
   ]
  },
  {
   "cell_type": "code",
   "execution_count": 308,
   "metadata": {
    "collapsed": false,
    "scrolled": false
   },
   "outputs": [
    {
     "data": {
      "image/png": "[encoded data removed]",
      "text/plain": [
       "<matplotlib.figure.Figure at 0x116786f50>"
      ]
     },
     "metadata": {},
     "output_type": "display_data"
    }
   ],
   "source": [
    "gbc_fpr, gbc_tpr, gbc_threshold = metrics.roc_curve(y_test, gbc_probs[:,1])\n",
    "gbc_roc_auc = metrics.auc(fpr, tpr)\n",
    "\n",
    "rfc_fpr, rfc_tpr, gbc_threshold = metrics.roc_curve(y_test, rfc_probs[:,1])\n",
    "rfc_roc_auc = metrics.auc(rfc_fpr, rfc_tpr)\n",
    "\n",
    "abc_fpr, abc_tpr, abc_threshold = metrics.roc_curve(y_test, abc_probs[:,1])\n",
    "abc_roc_auc = metrics.auc(abc_fpr, abc_tpr)\n",
    "\n",
    "\n",
    "import matplotlib.pyplot as plt\n",
    "plt.figure(figsize=(9,8))\n",
    "plt.title('Receiver Operating Characteristic')\n",
    "plt.plot(gbc_fpr, gbc_tpr, 'b', label = 'Gradient Boosted Classifier, AUC = %0.2f' % gbc_roc_auc)\n",
    "plt.plot(rfc_fpr, rfc_tpr, 'r', label = 'Random Forest Classifier, AUC = %0.2f' % rfc_roc_auc)\n",
    "plt.plot(abc_fpr, abc_tpr, 'g', label = 'AdaBoost Classifier, AUC = %0.2f' % abc_roc_auc)\n",
    "plt.legend(loc = 'lower right')\n",
    "plt.plot([0, 1], [0, 1],'--')\n",
    "plt.xlim([0, 1])\n",
    "plt.ylim([0, 1])\n",
    "plt.ylabel('True Positive Rate')\n",
    "plt.xlabel('False Positive Rate')\n",
    "plt.show()"
   ]
  },
  {
   "cell_type": "code",
   "execution_count": null,
   "metadata": {
    "collapsed": true
   },
   "outputs": [],
   "source": []
  }
 ],
 "metadata": {
  "kernelspec": {
   "display_name": "Python 2",
   "language": "python",
   "name": "python2"
  },
  "language_info": {
   "codemirror_mode": {
    "name": "ipython",
    "version": 2
   },
   "file_extension": ".py",
   "mimetype": "text/x-python",
   "name": "python",
   "nbconvert_exporter": "python",
   "pygments_lexer": "ipython2",
   "version": "2.7.13"
  }
 },
 "nbformat": 4,
 "nbformat_minor": 2
}
